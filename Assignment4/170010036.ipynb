{
 "cells": [
  {
   "cell_type": "code",
   "execution_count": 2,
   "metadata": {},
   "outputs": [],
   "source": [
    "import numpy as np\n",
    "import matplotlib.pyplot as plt"
   ]
  },
  {
   "cell_type": "markdown",
   "metadata": {},
   "source": [
    "# Part1: Calculation for EC145 Data"
   ]
  },
  {
   "cell_type": "markdown",
   "metadata": {},
   "source": [
    "### 1. Defining Parameters "
   ]
  },
  {
   "cell_type": "code",
   "execution_count": 3,
   "metadata": {},
   "outputs": [],
   "source": [
    "rho = 1.225                        #Density at sea level\n",
    "weight = 3300                      #Weight of helicopter\n",
    "\n",
    "#rotor parameters\n",
    "blades = 4                         #Number of blades\n",
    "rpm = 383.36                       #Rotor RPM   \n",
    "omega = 2*np.pi*rpm/60\n",
    "\n",
    "C = 0.312                          #Chord length\n",
    "R = 5.5                            #Radius\n",
    "\n",
    "\n",
    "\n",
    "#Tail Rotor Parameters\n",
    "tail_COG = 7.1\n",
    "tail_radius = 0.981\n",
    "tail_chors = 0.12\n",
    "tail_solidity = (2*tail_chors)/(np.pi*tail_radius)\n",
    "tail_omega= 124.6\n",
    "\n",
    "a=5.8                              #coefficient of lift\n",
    "Cd_0 = 0.010"
   ]
  },
  {
   "cell_type": "code",
   "execution_count": 5,
   "metadata": {},
   "outputs": [],
   "source": [
    "#Thrust Calculation\n",
    "Thrust = weight*9.81            \n",
    "\n",
    "\n",
    "#Flat Plate area\n",
    "plate_area = 1.95096\n",
    "\n",
    "\n",
    "#solidity\n",
    "Solidity = (blades*C)/(np.pi*R)\n",
    "\n",
    "#Power Factor \n",
    "k=1.14\n",
    "\n",
    "#Installation loss\n",
    "f=0.97\n"
   ]
  },
  {
   "cell_type": "code",
   "execution_count": null,
   "metadata": {},
   "outputs": [],
   "source": []
  },
  {
   "cell_type": "markdown",
   "metadata": {},
   "source": [
    "### 2.  Absolute and Service Ceiling calulations"
   ]
  },
  {
   "cell_type": "markdown",
   "metadata": {},
   "source": [
    "[Power Data at Page Number 8](https://exclusiveaircraft.co.uk/sites/default/files/brochure/Eurocopter-EC145-Brochure.pdf)"
   ]
  },
  {
   "cell_type": "code",
   "execution_count": 11,
   "metadata": {},
   "outputs": [],
   "source": [
    "#For twin engine Power Parameters\n",
    "max_cont_power = 632*1000         #in kW\n"
   ]
  },
  {
   "cell_type": "code",
   "execution_count": 12,
   "metadata": {},
   "outputs": [],
   "source": [
    "#Calculating the Tail rotor power(includes tail induced and profile power)\n",
    "def Tail_rotor_power(h, Thrust):\n",
    "    rho_ratio = ((1-(0.00198*h/288.16))**4.2553)\n",
    "    Torque = Power_h_required_service(h,Thrust)/omega\n",
    "    tail_thrust = Torque/tail_COG\n",
    "    tail_induced_power = tail_thrust*np.sqrt(tail_thrust/(2*rho*rho_ratio*np.pi*tail_radius*tail_radius))\n",
    "    tail_profile_power = (tail_solidity*Cd_0*rho_ratio*rho*(tail_omega**3)*(tail_radius**5)*np.pi)/8\n",
    "    tail_power = tail_induced_power+tail_profile_power\n",
    "    return tail_power"
   ]
  },
  {
   "cell_type": "code",
   "execution_count": 13,
   "metadata": {},
   "outputs": [],
   "source": [
    "#Calculate the power available at height h\n",
    "def Power_h_available(h,power):\n",
    "    ratio = ((1-(0.00198*h/288.16))**4.2553)\n",
    "    power_at_h = power*ratio*f\n",
    "    return power_at_h"
   ]
  },
  {
   "cell_type": "code",
   "execution_count": 14,
   "metadata": {},
   "outputs": [],
   "source": [
    "#Power required by main rotor including induced, profile power\n",
    "def Power_h_required_service(h,Thrust):\n",
    "    rho_ratio = ((1-(0.00198*h/288.16))**4.2553)\n",
    "    induced_power = (Thrust*np.sqrt(Thrust/(2*rho*rho_ratio*np.pi*R*R)))/1.06\n",
    "    profile_power = (Solidity*Cd_0*rho_ratio*rho*(omega**3)*(R**5)*np.pi)/8\n",
    "    \n",
    "    power = induced_power + profile_power \n",
    "    #print(power)\n",
    "    return power"
   ]
  },
  {
   "cell_type": "code",
   "execution_count": 15,
   "metadata": {},
   "outputs": [],
   "source": [
    "#Max climb rate at height h for given max power and Thrust\n",
    "def max_climb_rate(h,power_installed, Thrust):\n",
    "    power_available = Power_h_available(h,power_installed)\n",
    "    power_required = Power_h_required_service(h, Thrust)+Tail_rotor_power(h,Thrust)\n",
    "    climb_rate = (power_available-power_required)/(9.81*weight)\n",
    "    return climb_rate\n",
    "    "
   ]
  },
  {
   "cell_type": "code",
   "execution_count": 16,
   "metadata": {},
   "outputs": [
    {
     "name": "stdout",
     "output_type": "stream",
     "text": [
      "4700 0.6290161145240898\n",
      "4750 0.598728152963249\n",
      "4800 0.5684509101083103\n",
      "4850 0.5381843459376742\n",
      "4900 0.5079284203912867\n",
      "4950 0.4776830933705174\n",
      "5000 0.4474483247380186\n",
      "5050 0.41722407431765546\n",
      "5100 0.38701030189431557\n",
      "5150 0.3568069672138296\n",
      "5200 0.3266140299828024\n",
      "5250 0.29643144986853925\n",
      "5300 0.2662591864988355\n",
      "5350 0.23609719946194413\n",
      "5400 0.20594544830638176\n",
      "5450 0.17580389254083134\n",
      "5500 0.14567249163398405\n",
      "5550 0.11555120501443852\n",
      "5600 0.08543999207056971\n",
      "5650 0.05533881215033816\n",
      "5700 0.02524762456126493\n",
      "5750 -0.004833611429791402\n",
      "5800 -0.034904936596719234\n",
      "5850 -0.06496639175430859\n",
      "5900 -0.09501801775836437\n",
      "5950 -0.1250598555058466\n"
     ]
    }
   ],
   "source": [
    "height = np.arange(4700,6000,50)\n",
    "for i in range(len(height)):\n",
    "    max_climbrate = max_climb_rate(height[i],max_cont_power,Thrust )\n",
    "    print(height[i], max_climbrate)"
   ]
  },
  {
   "cell_type": "code",
   "execution_count": 17,
   "metadata": {},
   "outputs": [
    {
     "name": "stdout",
     "output_type": "stream",
     "text": [
      "Absolute Ceiling: 5720\n",
      "service Ceiling: 4900\n"
     ]
    }
   ],
   "source": [
    "print(\"Absolute Ceiling:\",5720)\n",
    "print(\"service Ceiling:\",4900)"
   ]
  },
  {
   "cell_type": "markdown",
   "metadata": {},
   "source": [
    "### 3.  Maximum forward speed from power considerations"
   ]
  },
  {
   "cell_type": "code",
   "execution_count": 18,
   "metadata": {},
   "outputs": [],
   "source": [
    "#Max forward speed calculation \n",
    "#Includes the required power due main, tail rotor and parasite drag\n",
    "#Max speed is when power required and power available are equal\n",
    "def max_forward_speed(h, Thrust):\n",
    "    rho_ratio = ((1-(0.00198*h/288.16))**4.2553)\n",
    "    power_available = Power_h_available(h,max_cont_power)\n",
    "    power_required = Power_h_required_service(h, Thrust) + Tail_rotor_power(h,Thrust) \n",
    "    \n",
    "    max_forward_speed = (((power_available - power_required)*2)/(rho*rho_ratio*plate_area*0.8))**(1/3)\n",
    "    return max_forward_speed"
   ]
  },
  {
   "cell_type": "code",
   "execution_count": 19,
   "metadata": {},
   "outputs": [
    {
     "name": "stdout",
     "output_type": "stream",
     "text": [
      "Max Forward Velocity:  48.196542270474026\n"
     ]
    }
   ],
   "source": [
    "print(\"Max Forward Velocity: \", max_forward_speed(420, Thrust))"
   ]
  },
  {
   "cell_type": "markdown",
   "metadata": {},
   "source": [
    "### 4. Range and endurance for a typical operating condition\n"
   ]
  },
  {
   "cell_type": "code",
   "execution_count": 20,
   "metadata": {},
   "outputs": [],
   "source": [
    "#Fuel Parameters\n",
    "total_fuel = 694                 #in kG\n",
    "cruise_speed = 67.5              #in m/s\n",
    "\n",
    "fuel_consumption_cruise = 234/(60*60)          #in Kg/s\n",
    "fuel_consumption_65_kias = 197/(60*60)         #in Kg/s\n",
    "\n",
    "permissable_TOF = total_fuel/fuel_consumption_cruise"
   ]
  },
  {
   "cell_type": "code",
   "execution_count": 21,
   "metadata": {},
   "outputs": [],
   "source": [
    "#power required at recommended cruise speed which is 67.5\n",
    "#we will calculate at h=420m\n",
    "def Power_at_recommended_cruise():\n",
    "    rho_h = 1.21\n",
    "    Drag = 0.5*rho_h*plate_area*(cruise_speed**2)*0.8\n",
    "    alpha_tpp = np.arctan(Drag/(weight*9.81))\n",
    "    Thrust_for_R = (weight*9.81)/(np.cos(alpha_tpp))\n",
    "    mu = cruise_speed*np.cos(alpha_tpp)/(omega*R)\n",
    "    induced_power = k*Thrust_for_R**2/(2*mu*rho_h*np.pi*(R**3)*omega)\n",
    "    parasite_power = Drag*cruise_speed\n",
    "    profile_power = (Solidity*Cd_0*rho_h*(omega**3)*(R**5)*np.pi*(1+4.6*(mu**2)))/8\n",
    "    Total_power_for_R_cruise = induced_power+parasite_power+profile_power\n",
    "    return Total_power_for_R_cruise"
   ]
  },
  {
   "cell_type": "code",
   "execution_count": 70,
   "metadata": {},
   "outputs": [
    {
     "data": {
      "text/plain": [
       "0.065"
      ]
     },
     "execution_count": 70,
     "metadata": {},
     "output_type": "execute_result"
    }
   ],
   "source": [
    "234/(60*60)"
   ]
  },
  {
   "cell_type": "code",
   "execution_count": 22,
   "metadata": {},
   "outputs": [
    {
     "data": {
      "text/plain": [
       "528380.4102881963"
      ]
     },
     "execution_count": 22,
     "metadata": {},
     "output_type": "execute_result"
    }
   ],
   "source": [
    "rotor_power_for_R_cruise = Power_at_recommended_cruise()\n",
    "rotor_power_for_R_cruise"
   ]
  },
  {
   "cell_type": "code",
   "execution_count": 23,
   "metadata": {},
   "outputs": [],
   "source": [
    "#Similarly for tail rotor\n",
    "def Tail_power_at_recommended_cruise():\n",
    "    rho_h = 1.21\n",
    "    Torque = rotor_power_for_R_cruise/omega\n",
    "    tail_thrust = Torque/tail_COG\n",
    "    tail_induces_power = tail_thrust*np.sqrt(tail_thrust/(2*rho_h*np.pi*tail_radius*tail_radius))\n",
    "    tail_profile_power = (tail_solidity*Cd_0*rho_h*(tail_omega**3)*(tail_radius**5)*np.pi)/8\n",
    "    tail_power = tail_induces_power+tail_profile_power\n",
    "    return tail_power"
   ]
  },
  {
   "cell_type": "code",
   "execution_count": 24,
   "metadata": {},
   "outputs": [
    {
     "data": {
      "text/plain": [
       "30157.520212978277"
      ]
     },
     "execution_count": 24,
     "metadata": {},
     "output_type": "execute_result"
    }
   ],
   "source": [
    "Tail_power_at_recommended_cruise()"
   ]
  },
  {
   "cell_type": "code",
   "execution_count": 25,
   "metadata": {},
   "outputs": [],
   "source": [
    "Total_power_required_for_recommended_cruise = Power_at_recommended_cruise()+Tail_power_at_recommended_cruise()\n"
   ]
  },
  {
   "cell_type": "code",
   "execution_count": 26,
   "metadata": {},
   "outputs": [],
   "source": [
    "fuel_per_Watt = fuel_consumption_cruise/Total_power_required_for_recommended_cruise"
   ]
  },
  {
   "cell_type": "code",
   "execution_count": 54,
   "metadata": {},
   "outputs": [
    {
     "name": "stdout",
     "output_type": "stream",
     "text": [
      "fuel_per_Watt: 1.1637526558254636e-07\n"
     ]
    }
   ],
   "source": [
    "print(\"fuel_per_Watt:\" ,fuel_per_Watt)        \n",
    "#We will use this for our design beacuse we dont know fuel consumption required for recommended cruise speed, \n",
    "#so we will take that from here"
   ]
  },
  {
   "cell_type": "code",
   "execution_count": 29,
   "metadata": {},
   "outputs": [],
   "source": [
    "def Range():\n",
    "    range_ = cruise_speed*permissable_TOF\n",
    "    return range_"
   ]
  },
  {
   "cell_type": "code",
   "execution_count": 30,
   "metadata": {},
   "outputs": [
    {
     "name": "stdout",
     "output_type": "stream",
     "text": [
      "Range:  720692.3076923076\n"
     ]
    }
   ],
   "source": [
    "print(\"Range: \", Range())"
   ]
  },
  {
   "cell_type": "code",
   "execution_count": 31,
   "metadata": {},
   "outputs": [],
   "source": [
    "def Endurance():\n",
    "    endurance = total_fuel/fuel_consumption_65_kias\n",
    "    return endurance"
   ]
  },
  {
   "cell_type": "code",
   "execution_count": 32,
   "metadata": {},
   "outputs": [
    {
     "name": "stdout",
     "output_type": "stream",
     "text": [
      "Endurance:  12682.23350253807\n"
     ]
    }
   ],
   "source": [
    "print(\"Endurance: \", Endurance())"
   ]
  },
  {
   "cell_type": "markdown",
   "metadata": {},
   "source": [
    "### 5. Autorotative index"
   ]
  },
  {
   "cell_type": "code",
   "execution_count": 69,
   "metadata": {},
   "outputs": [
    {
     "name": "stdout",
     "output_type": "stream",
     "text": [
      "Lock Number: 1.3134434385010927\n"
     ]
    }
   ],
   "source": [
    "#defining inertia parameters\n",
    "rotor_weight = 36.3                                         #one ROTOR weight\n",
    "J_rotor_blades = (blades*(4*R*R + C*C)*rotor_weight)/12     #inertia of all rotors\n",
    "tail_rotor_weight = 2.49                                    #in Kg\n",
    "J_tail_rotors = 2*((4*(tail_radius**2)+(tail_chors**2)))*tail_rotor_weight/12\n",
    "J_total = J_rotor_blades + J_tail_rotors*tail_omega/omega\n",
    "\n",
    "#Lock Number\n",
    "lock_number = (rho*C*a*(R**4))/J_total\n",
    "print(\"Lock Number:\", lock_number)"
   ]
  },
  {
   "cell_type": "code",
   "execution_count": 34,
   "metadata": {},
   "outputs": [],
   "source": [
    "def AI():\n",
    "    rho_h = 1.21\n",
    "    Drag = 0.5*rho_h*plate_area*(cruise_speed**2)*0.8\n",
    "    alpha_tpp = np.arctan(Drag/(weight*9.81))\n",
    "    Thrust = (weight*9.81)/(np.cos(alpha_tpp))\n",
    "    autorotative_index = (J_total*(omega**2)*rho_h*np.pi*(R**2))/(weight*rho*Thrust)\n",
    "    return autorotative_index"
   ]
  },
  {
   "cell_type": "code",
   "execution_count": 36,
   "metadata": {},
   "outputs": [
    {
     "name": "stdout",
     "output_type": "stream",
     "text": [
      "Autorotative Index:  2.0639030343987788\n"
     ]
    }
   ],
   "source": [
    "print(\"Autorotative Index: \",AI())"
   ]
  },
  {
   "cell_type": "code",
   "execution_count": null,
   "metadata": {},
   "outputs": [],
   "source": []
  },
  {
   "cell_type": "markdown",
   "metadata": {},
   "source": [
    "# Part2: Design Parameters and Calculation for new Helicopter"
   ]
  },
  {
   "cell_type": "markdown",
   "metadata": {},
   "source": [
    " 1. Absolute ceiling for previous case: 5720\n",
    " 2. Now Required Absolute ceiling: 8008"
   ]
  },
  {
   "cell_type": "code",
   "execution_count": 37,
   "metadata": {},
   "outputs": [],
   "source": [
    "#Density as new absolue ceiling\n",
    "rho_new = rho_ratio = ((1-(0.00198*8008/288.16))**4.2553)*1.225"
   ]
  },
  {
   "cell_type": "code",
   "execution_count": 38,
   "metadata": {},
   "outputs": [],
   "source": [
    "#New design Parameters:\n",
    "#After trying many different variations of quatities we arrive at\n",
    "weight_new = 3100 \n",
    "C = 0.297\n"
   ]
  },
  {
   "cell_type": "code",
   "execution_count": 39,
   "metadata": {},
   "outputs": [],
   "source": [
    "#New Thrust\n",
    "Thrust_new = weight_new*9.81\n",
    "\n",
    "#New solidity\n",
    "Solidity_new = blades*C/(np.pi*R)"
   ]
  },
  {
   "cell_type": "markdown",
   "metadata": {},
   "source": [
    "####  Prove of absolute ceiling"
   ]
  },
  {
   "cell_type": "code",
   "execution_count": 40,
   "metadata": {},
   "outputs": [],
   "source": [
    "Power_avail_new = Power_h_available(8008, max_cont_power)"
   ]
  },
  {
   "cell_type": "code",
   "execution_count": 43,
   "metadata": {},
   "outputs": [],
   "source": [
    "#Power required after including variation of solidity or Chord length\n",
    "def Power_required_new_at_H(h,Thrust, solidity):\n",
    "    rho_ratio = ((1-(0.00198*h/288.16))**4.2553)\n",
    "    induced_power = (Thrust*np.sqrt(Thrust/(2*rho*rho_ratio*np.pi*R*R)))/1.06\n",
    "    profile_power = (solidity*Cd_0*rho_ratio*rho*(omega**3)*(R**5)*np.pi)/8\n",
    "    power = induced_power + profile_power\n",
    "    return power\n",
    "\n",
    "\n",
    "Power_required_new = Power_required_new_at_H(8008, Thrust_new,Solidity_new)+Tail_rotor_power(8008,Thrust_new)"
   ]
  },
  {
   "cell_type": "code",
   "execution_count": 44,
   "metadata": {},
   "outputs": [
    {
     "name": "stdout",
     "output_type": "stream",
     "text": [
      "Power_avail_new:  481832.41035964363\n",
      "Power_required_new:  481771.0752542534\n",
      "Max climb rate:  0.002016872361653011\n"
     ]
    }
   ],
   "source": [
    "print(\"Power_avail_new: \",Power_avail_new)\n",
    "print(\"Power_required_new: \", Power_required_new)\n",
    "print(\"Max climb rate: \", (Power_avail_new-Power_required_new)/(9.81*weight_new))"
   ]
  },
  {
   "cell_type": "markdown",
   "metadata": {},
   "source": [
    "Comment: Above we can see that Max climb rate at 1.4 of prevoius absolute ceiling is zero.\n",
    "Which is what desired."
   ]
  },
  {
   "cell_type": "markdown",
   "metadata": {},
   "source": [
    "## Caculation of other Quantities"
   ]
  },
  {
   "cell_type": "markdown",
   "metadata": {},
   "source": [
    "### 1. Service ceiling"
   ]
  },
  {
   "cell_type": "code",
   "execution_count": 45,
   "metadata": {},
   "outputs": [
    {
     "name": "stdout",
     "output_type": "stream",
     "text": [
      "7000 0.6229663013375233\n",
      "7050 0.5920614266115735\n",
      "7100 0.5611676449709082\n",
      "7150 0.5302849141748017\n",
      "7200 0.49941319194119443\n",
      "7250 0.4685524359465289\n",
      "7300 0.43770260382564596\n",
      "7350 0.4068636531715917\n",
      "7400 0.37603554153553886\n",
      "7450 0.34521822642662425\n",
      "7500 0.31441166531179165\n",
      "7550 0.2836158156156945\n",
      "7600 0.2528306347205058\n",
      "7650 0.22205607996582125\n",
      "7700 0.1912921086484826\n",
      "7750 0.16053867802246113\n",
      "7800 0.12979574529872367\n",
      "7850 0.09906326764504679\n",
      "7900 0.06834120218593279\n",
      "7950 0.03762950600242578\n"
     ]
    }
   ],
   "source": [
    "height = np.arange(7000,8000,50)\n",
    "for i in range(len(height)):\n",
    "    Power_avail_diff_h = Power_h_available(height[i], max_cont_power)\n",
    "    Power_required_diff_h = Power_required_new_at_H(height[i], Thrust_new,Solidity_new)+Tail_rotor_power(height[i],Thrust_new)\n",
    "    max_climbrate = (Power_avail_diff_h-Power_required_diff_h)/(9.81*weight_new)\n",
    "    print(height[i], max_climbrate)"
   ]
  },
  {
   "cell_type": "code",
   "execution_count": 46,
   "metadata": {},
   "outputs": [
    {
     "name": "stdout",
     "output_type": "stream",
     "text": [
      "Service Ceiling for Our Design(m):  7200\n"
     ]
    }
   ],
   "source": [
    "print(\"Service Ceiling for Our Design(m): \", 7200)"
   ]
  },
  {
   "cell_type": "markdown",
   "metadata": {},
   "source": [
    "### 2. Maximum Forward Speed"
   ]
  },
  {
   "cell_type": "code",
   "execution_count": 47,
   "metadata": {},
   "outputs": [],
   "source": [
    "def max_forward_speed_new(h, Thrust,solidity):\n",
    "    rho_ratio = ((1-(0.00198*h/288.16))**4.2553)\n",
    "    power_available = Power_h_available(h,max_cont_power)\n",
    "    power_required = Power_required_new_at_H(h, Thrust,solidity) + Tail_rotor_power(h,Thrust) \n",
    "    \n",
    "    max_forward_speed = (((power_available - power_required)*2)/(rho*rho_ratio*plate_area*0.8))**(1/3)\n",
    "    return max_forward_speed"
   ]
  },
  {
   "cell_type": "code",
   "execution_count": 48,
   "metadata": {},
   "outputs": [
    {
     "name": "stdout",
     "output_type": "stream",
     "text": [
      "Max Forward Velocity for our design:  53.679176997370256\n"
     ]
    }
   ],
   "source": [
    "print(\"Max Forward Velocity for our design: \", max_forward_speed_new(420, Thrust_new,Solidity_new))"
   ]
  },
  {
   "cell_type": "markdown",
   "metadata": {},
   "source": [
    "### 3. Range and Endurance"
   ]
  },
  {
   "cell_type": "markdown",
   "metadata": {},
   "source": [
    "1. We will calculate the Range and endurance at recommended cruise speed"
   ]
  },
  {
   "cell_type": "code",
   "execution_count": 55,
   "metadata": {},
   "outputs": [],
   "source": [
    "#Fuel Parameters\n",
    "total_fuel = 694                 #in kG\n",
    "cruise_speed = 67.5              #in m/s\n",
    "\n",
    "fuel_consumption_cruise = 234/(60*60)          #in Kg/s\n",
    "fuel_consumption_65_kias = 197/(60*60)         #in Kg/s\n",
    "\n",
    "permissable_TOF = total_fuel/fuel_consumption_cruise"
   ]
  },
  {
   "cell_type": "code",
   "execution_count": 56,
   "metadata": {},
   "outputs": [],
   "source": [
    "#power required at recommended cruise speed\n",
    "#we will calculate at h=420m\n",
    "def Power_at_recommended_cruise_new():\n",
    "    rho_h = 1.21\n",
    "    Drag = 0.5*rho_h*plate_area*(cruise_speed**2)*0.8\n",
    "    alpha_tpp = np.arctan(Drag/(weight_new*9.81))\n",
    "    Thrust_for_R = (weight_new*9.81)/(np.cos(alpha_tpp))\n",
    "    mu = cruise_speed*np.cos(alpha_tpp)/(omega*R)\n",
    "    induced_power = k*Thrust_for_R**2/(2*mu*rho_h*np.pi*(R**3)*omega)\n",
    "    parasite_power = Drag*cruise_speed\n",
    "    profile_power = (Solidity_new*Cd_0*rho_h*(omega**3)*(R**5)*np.pi*(1+4.6*(mu**2)))/8\n",
    "    Total_power_for_R_cruise = induced_power+parasite_power+profile_power\n",
    "    return Total_power_for_R_cruise"
   ]
  },
  {
   "cell_type": "code",
   "execution_count": 57,
   "metadata": {},
   "outputs": [],
   "source": [
    "rotor_power_for_R_cruise_new = Power_at_recommended_cruise_new()"
   ]
  },
  {
   "cell_type": "code",
   "execution_count": 58,
   "metadata": {},
   "outputs": [],
   "source": [
    "#Similarly for tail rotor\n",
    "def Tail_power_at_recommended_cruise_new():\n",
    "    rho_h = 1.21\n",
    "    Torque = rotor_power_for_R_cruise_new/omega\n",
    "    tail_thrust = Torque/tail_COG\n",
    "    tail_induces_power = tail_thrust*np.sqrt(tail_thrust/(2*rho_h*np.pi*tail_radius*tail_radius))\n",
    "    tail_profile_power = (tail_solidity*Cd_0*rho_h*(tail_omega**3)*(tail_radius**5)*np.pi)/8\n",
    "    tail_power = tail_induces_power+tail_profile_power\n",
    "    return tail_power"
   ]
  },
  {
   "cell_type": "code",
   "execution_count": 59,
   "metadata": {},
   "outputs": [],
   "source": [
    "Total_power_required_for_recommended_cruise_new = Power_at_recommended_cruise_new()+Tail_power_at_recommended_cruise_new()"
   ]
  },
  {
   "cell_type": "code",
   "execution_count": 60,
   "metadata": {},
   "outputs": [],
   "source": [
    "fuel_consumption_cruise_new = fuel_per_Watt*Total_power_required_for_recommended_cruise_new"
   ]
  },
  {
   "cell_type": "code",
   "execution_count": 61,
   "metadata": {},
   "outputs": [
    {
     "data": {
      "text/plain": [
       "0.06288356076093192"
      ]
     },
     "execution_count": 61,
     "metadata": {},
     "output_type": "execute_result"
    }
   ],
   "source": [
    "fuel_consumption_cruise_new"
   ]
  },
  {
   "cell_type": "code",
   "execution_count": 62,
   "metadata": {},
   "outputs": [],
   "source": [
    "def Endurance_new():\n",
    "    endurance = total_fuel/fuel_consumption_cruise_new\n",
    "    return endurance"
   ]
  },
  {
   "cell_type": "code",
   "execution_count": 63,
   "metadata": {},
   "outputs": [],
   "source": [
    "Endurance_new_design = Endurance_new()"
   ]
  },
  {
   "cell_type": "code",
   "execution_count": 64,
   "metadata": {},
   "outputs": [],
   "source": [
    "def Range_new():\n",
    "    range_ = Endurance_new_design*cruise_speed\n",
    "    return range_"
   ]
  },
  {
   "cell_type": "code",
   "execution_count": 65,
   "metadata": {},
   "outputs": [
    {
     "name": "stdout",
     "output_type": "stream",
     "text": [
      "Endurance for our design: 11036.270713715148\n",
      "Range for our design:  744948.2731757725\n"
     ]
    }
   ],
   "source": [
    "print(\"Endurance for our design:\", Endurance_new())\n",
    "print('Range for our design: ', Range_new())"
   ]
  },
  {
   "cell_type": "markdown",
   "metadata": {},
   "source": [
    "### 4. Autorotative Index"
   ]
  },
  {
   "cell_type": "code",
   "execution_count": 66,
   "metadata": {},
   "outputs": [],
   "source": [
    "#defining inertia parameters\n",
    "C_new = 0.297\n",
    "rotor_weight = 36.3                                         #one ROTOR weight\n",
    "J_rotor_blades = (blades*(4*R*R + C_new*C_new)*rotor_weight)/12     #inertia of all rotors\n",
    "tail_rotor_weight = 2.49                                    #in Kg\n",
    "J_tail_rotors = 2*((4*(tail_radius**2)+(tail_chors**2)))*tail_rotor_weight/12\n",
    "J_total = J_rotor_blades + J_tail_rotors*tail_omega/omega"
   ]
  },
  {
   "cell_type": "code",
   "execution_count": 67,
   "metadata": {},
   "outputs": [],
   "source": [
    "def AI_new():\n",
    "    rho_h = 1.21\n",
    "    Drag = 0.5*rho_h*plate_area*(cruise_speed**2)*0.8\n",
    "    alpha_tpp = np.arctan(Drag/(weight_new*9.81))\n",
    "    Thrust = (weight_new*9.81)/(np.cos(alpha_tpp))\n",
    "    autorotative_index = (J_total*(omega**2)*rho_h*np.pi*(R**2))/(weight_new*rho*Thrust)\n",
    "    return autorotative_index"
   ]
  },
  {
   "cell_type": "code",
   "execution_count": 68,
   "metadata": {},
   "outputs": [
    {
     "name": "stdout",
     "output_type": "stream",
     "text": [
      "Autorotative Index for our design :  2.3359295671775735\n"
     ]
    }
   ],
   "source": [
    "print(\"Autorotative Index for our design : \",AI_new())"
   ]
  },
  {
   "cell_type": "code",
   "execution_count": null,
   "metadata": {},
   "outputs": [],
   "source": []
  }
 ],
 "metadata": {
  "kernelspec": {
   "display_name": "Python 3",
   "language": "python",
   "name": "python3"
  },
  "language_info": {
   "codemirror_mode": {
    "name": "ipython",
    "version": 3
   },
   "file_extension": ".py",
   "mimetype": "text/x-python",
   "name": "python",
   "nbconvert_exporter": "python",
   "pygments_lexer": "ipython3",
   "version": "3.8.5"
  }
 },
 "nbformat": 4,
 "nbformat_minor": 4
}
