{
 "cells": [
  {
   "cell_type": "code",
   "execution_count": 1,
   "metadata": {},
   "outputs": [],
   "source": [
    "import math\n",
    "import numpy as np\n",
    "import matplotlib.pyplot as plt\n",
    "import numba\n",
    "import pandas as pd"
   ]
  },
  {
   "cell_type": "markdown",
   "metadata": {},
   "source": [
    "### Defining Parameters:"
   ]
  },
  {
   "cell_type": "code",
   "execution_count": 2,
   "metadata": {},
   "outputs": [],
   "source": [
    "weight = 8000                      #Weight of helicopter\n",
    "blades = 4                         #Number of blades\n",
    "V = 73                             #Forward velocity\n",
    "rho = 1.215                        #Density\n",
    "rpm = 260                          #Rotor RPM\n",
    "omega = 2*np.pi*rpm/60             #radian/second\n",
    "plate_area = 6.8                   #Flat plate area\n",
    "R = 7.3                            #Radius\n",
    "Rrc = 0.9                          #Root cut out\n",
    "C = 0.55                           #Taper Length\n",
    "a=5.8                              #coefficient of lift"
   ]
  },
  {
   "cell_type": "code",
   "execution_count": 3,
   "metadata": {},
   "outputs": [],
   "source": [
    "solidity = (blades*C)/(np.pi*R)"
   ]
  },
  {
   "cell_type": "markdown",
   "metadata": {},
   "source": [
    "#### Finding Drag and Alpha TPP "
   ]
  },
  {
   "cell_type": "code",
   "execution_count": 4,
   "metadata": {},
   "outputs": [],
   "source": [
    "def drag(Cd_fuselage):\n",
    "    return 1.2*(0.5*rho*(V**2)*plate_area*Cd_fuselage) #1.2 for 20% extra drag taken\n",
    "\n",
    "def alpha_tpp(Drag):\n",
    "    return math.atan(Drag/(weight*9.81))"
   ]
  },
  {
   "cell_type": "code",
   "execution_count": 5,
   "metadata": {},
   "outputs": [],
   "source": [
    "Cd_fuselage = 0.8\n",
    "Drag = drag(0.8)\n",
    "Alpha_tpp = alpha_tpp(Drag)"
   ]
  },
  {
   "cell_type": "code",
   "execution_count": null,
   "metadata": {},
   "outputs": [],
   "source": []
  },
  {
   "cell_type": "markdown",
   "metadata": {},
   "source": [
    "#### Discretization"
   ]
  },
  {
   "cell_type": "code",
   "execution_count": 6,
   "metadata": {},
   "outputs": [],
   "source": [
    "#Discretize radius into 2000 parts\n",
    "dr = np.zeros(2000)\n",
    "for i in range(2000):\n",
    "    dr[i] = Rrc + i*(R-Rrc)/2000\n",
    "    \n",
    "#Similarly for psi, we divide into 360 equal parts\n",
    "dpsi = np.zeros(360)\n",
    "for i in range(360):\n",
    "    dpsi[i] = i*np.pi/180\n",
    "    \n",
    "# We will use these discretized values for whole assignment \n",
    "# dr is list of discretized r (2000 points)\n",
    "# dpsi is list of discritized psi (360 points)"
   ]
  },
  {
   "cell_type": "markdown",
   "metadata": {},
   "source": [
    "# Task1: Glauert Model"
   ]
  },
  {
   "cell_type": "markdown",
   "metadata": {},
   "source": [
    "### 1. Finding Thrust and CT values"
   ]
  },
  {
   "cell_type": "code",
   "execution_count": 7,
   "metadata": {},
   "outputs": [
    {
     "name": "stdout",
     "output_type": "stream",
     "text": [
      "0.010114376284372516\n"
     ]
    }
   ],
   "source": [
    "#Calculate CT\n",
    "Thrust = (weight*9.81)/np.cos(Alpha_tpp)\n",
    "CT = Thrust/(rho*np.pi*(R**2)*((omega*R)**2))\n",
    "print(CT)"
   ]
  },
  {
   "cell_type": "markdown",
   "metadata": {},
   "source": [
    "### 2. Finding $ \\lambda_{i,g}$ , $ \\lambda_i$ and $\\lambda$"
   ]
  },
  {
   "cell_type": "code",
   "execution_count": 8,
   "metadata": {},
   "outputs": [],
   "source": [
    "# Advance ratio \n",
    "mu = (V*np.cos(Alpha_tpp))/(omega*R)"
   ]
  },
  {
   "cell_type": "code",
   "execution_count": 9,
   "metadata": {},
   "outputs": [],
   "source": [
    "#Function for finding the 𝜆𝑖,𝑔   \n",
    "def find_lamda_ig():\n",
    "    tmp_lamda_ig = CT/(2*mu)\n",
    "    err = 100\n",
    "\n",
    "    while err > 10**-8:\n",
    "        lamda_ig = CT/(2*np.sqrt(mu**2 + (mu*np.tan(Alpha_tpp) + tmp_lamda_ig)**2))\n",
    "        err = abs(tmp_lamda_ig-lamda_ig)\n",
    "        tmp_lamda_ig = lamda_ig\n",
    "        \n",
    "    return tmp_lamda_ig"
   ]
  },
  {
   "cell_type": "code",
   "execution_count": 10,
   "metadata": {},
   "outputs": [
    {
     "data": {
      "text/plain": [
       "0.01362910537056813"
      ]
     },
     "execution_count": 10,
     "metadata": {},
     "output_type": "execute_result"
    }
   ],
   "source": [
    "lamda_ig = find_lamda_ig()\n",
    "lamda_ig"
   ]
  },
  {
   "cell_type": "code",
   "execution_count": 11,
   "metadata": {},
   "outputs": [],
   "source": [
    "#function for finding the lambda_G\n",
    "def find_lamda_G():\n",
    "    tmp = (V*np.sin(Alpha_tpp))/(omega*R)\n",
    "    return lamda_ig+tmp"
   ]
  },
  {
   "cell_type": "code",
   "execution_count": 12,
   "metadata": {},
   "outputs": [],
   "source": [
    "lamda_G = find_lamda_G()"
   ]
  },
  {
   "cell_type": "code",
   "execution_count": 13,
   "metadata": {},
   "outputs": [],
   "source": [
    "#Function for finding the lambda_i/lambda_ig\n",
    "@numba.njit\n",
    "def find_ratio_i_ig(r,psi):\n",
    "    tmp = ((4*mu)/(3*lamda_G)/(1.2+mu/lamda_G))*(r*np.cos(psi)/R)\n",
    "    return 1+tmp"
   ]
  },
  {
   "cell_type": "code",
   "execution_count": 14,
   "metadata": {},
   "outputs": [],
   "source": [
    "#For total inflow\n",
    "@numba.njit\n",
    "def find_lamda(r,psi):\n",
    "    tmp_a = (V*np.sin(Alpha_tpp))/(omega*R)\n",
    "    tmp_b = lamda_ig*find_ratio_i_ig(r,psi)\n",
    "    return tmp_a + tmp_b"
   ]
  },
  {
   "cell_type": "markdown",
   "metadata": {},
   "source": [
    "### 3. Finding Pitch ($\\theta $), Flap ($ \\beta$), Angle of attack ($\\alpha$)"
   ]
  },
  {
   "cell_type": "markdown",
   "metadata": {},
   "source": [
    "##### 3.1 Pitch "
   ]
  },
  {
   "cell_type": "code",
   "execution_count": 15,
   "metadata": {},
   "outputs": [],
   "source": [
    "# These are values after finding Trim , optimization is in latter part of notebook\n",
    "theta_0 = 18.7\n",
    "theta_tw = -0.3\n",
    "theta_1c = 2.1\n",
    "theta_1s = -11.2\n",
    "theta_0 = theta_0*np.pi/180\n",
    "theta_tw = theta_tw*np.pi/180\n",
    "theta_1c = theta_1c*np.pi/180\n",
    "theta_1s = theta_1s*np.pi/180"
   ]
  },
  {
   "cell_type": "code",
   "execution_count": 16,
   "metadata": {},
   "outputs": [],
   "source": [
    "#function for calculating pitch\n",
    "@numba.njit\n",
    "def pitch(r,psi,theta_0=theta_0, theta_1c=theta_1c, theta_1s=theta_1s,theta_tw=theta_tw):\n",
    "    theta = theta_0 + theta_1c*np.cos(psi) + theta_1s*np.sin(psi) + theta_tw*(r/R)\n",
    "    return theta"
   ]
  },
  {
   "cell_type": "markdown",
   "metadata": {},
   "source": [
    "\n",
    "##### 3.2 Flap"
   ]
  },
  {
   "cell_type": "code",
   "execution_count": 17,
   "metadata": {},
   "outputs": [],
   "source": [
    "# These are values after finding Trim , optimization is in latter part of notebook\n",
    "beta_0 = 3\n",
    "beta_1c = -1.07\n",
    "beta_1s = 1.68\n",
    "beta_0 = beta_0*np.pi/180\n",
    "beta_1c = beta_1c*np.pi/180\n",
    "beta_1s = beta_1s*np.pi/180"
   ]
  },
  {
   "cell_type": "code",
   "execution_count": 18,
   "metadata": {},
   "outputs": [],
   "source": [
    "@numba.njit\n",
    "def Flap(psi,beta_0=beta_0, beta_1c=beta_1c,beta_1s=beta_1s):\n",
    "    beta = beta_0 + beta_1c*np.cos(psi) + beta_1s*np.sin(psi)\n",
    "    return beta"
   ]
  },
  {
   "cell_type": "markdown",
   "metadata": {},
   "source": [
    "##### 3.3 Angle of Attack"
   ]
  },
  {
   "cell_type": "code",
   "execution_count": 19,
   "metadata": {},
   "outputs": [],
   "source": [
    "@numba.njit\n",
    "def angle_of_attack(r,psi,beta_0, beta_1c,beta_1s,theta_0, theta_1c, theta_1s,theta_tw):\n",
    "    UT = omega*r + V*np.cos(Alpha_tpp)*np.sin(psi)\n",
    "    UP = find_lamda(r,psi)*omega*R*np.cos(Flap(psi,beta_0, beta_1c,beta_1s)) + V*np.cos(Alpha_tpp)*np.sin(Flap(psi,beta_0, beta_1c,beta_1s))*np.cos(psi)\n",
    "    theta = pitch(r,psi,theta_0, theta_1c, theta_1s,theta_tw)\n",
    "    return theta - np.arctan(UP/UT)"
   ]
  },
  {
   "cell_type": "markdown",
   "metadata": {},
   "source": [
    "### 4. Find Thrust, Pitch Moment, Rolling Moment"
   ]
  },
  {
   "cell_type": "markdown",
   "metadata": {},
   "source": [
    "##### 4.1 Thrust"
   ]
  },
  {
   "cell_type": "code",
   "execution_count": 20,
   "metadata": {},
   "outputs": [],
   "source": [
    "#Function for calculating L_prime at given r and psi (L_prime as described in lectures)\n",
    "@numba.njit\n",
    "def L_prime(r,psi,beta_0, beta_1c,beta_1s,theta_0, theta_1c, theta_1s,theta_tw):\n",
    "    Cl = a*angle_of_attack(r,psi,beta_0, beta_1c,beta_1s,theta_0, theta_1c, theta_1s,theta_tw)\n",
    "    UT = omega*r + V*np.cos(Alpha_tpp)*np.sin(psi)\n",
    "    UP = find_lamda(r,psi)*omega*R*np.cos(Flap(psi,beta_0, beta_1c,beta_1s)) + V*np.cos(Alpha_tpp)*np.sin(Flap(psi,beta_0, beta_1c,beta_1s))*np.cos(psi)\n",
    "    #print(Flap(psi))\n",
    "    ans = 0.5*rho*C*Cl*(UT**2 + UP**2)*np.sign(UT)\n",
    "    return ans"
   ]
  },
  {
   "cell_type": "code",
   "execution_count": 21,
   "metadata": {},
   "outputs": [],
   "source": [
    "#Total Thrust:\n",
    "@numba.njit\n",
    "def find_Thrust(beta_0, beta_1c,beta_1s,theta_0, theta_1c, theta_1s,theta_tw):\n",
    "    thrust_dr = np.zeros(len(dr))\n",
    "    for i in range(len(dr)):\n",
    "        thrust_dpsi = np.zeros(len(dpsi))\n",
    "        for j in range(len(dpsi)):\n",
    "            thrust_dpsi[j] = L_prime(dr[i],dpsi[j],beta_0, beta_1c,beta_1s,theta_0, theta_1c, theta_1s,theta_tw)\n",
    "        thrust_dr[i] = ((2*np.pi)/(len(dpsi)*2))*(thrust_dpsi[0]+thrust_dpsi[-1]+2*np.sum(thrust_dpsi[1:-1]))\n",
    "\n",
    "    Total_Thrust = ((R-Rrc)/(len(dr)*2))*(thrust_dr[0]+thrust_dr[-1]+2*np.sum(thrust_dr[1:-1]))\n",
    "    return Total_Thrust\n",
    "      "
   ]
  },
  {
   "cell_type": "code",
   "execution_count": 22,
   "metadata": {},
   "outputs": [
    {
     "name": "stdout",
     "output_type": "stream",
     "text": [
      "Total_Thrust:  83162.49352881065\n",
      "CT_integrate:  0.010349180931778517\n"
     ]
    }
   ],
   "source": [
    "Total_Thrust = blades*find_Thrust(beta_0, beta_1c,beta_1s,theta_0, theta_1c, theta_1s,theta_tw)/(2*np.pi)\n",
    "CT_integrate = Total_Thrust/(rho*(omega**2)*(R**4)*np.pi)\n",
    "print('Total_Thrust: ',Total_Thrust)\n",
    "print('CT_integrate: ',CT_integrate)"
   ]
  },
  {
   "cell_type": "code",
   "execution_count": 23,
   "metadata": {},
   "outputs": [],
   "source": [
    "## Also Same by using Scipy integrate function"
   ]
  },
  {
   "cell_type": "code",
   "execution_count": 81,
   "metadata": {},
   "outputs": [],
   "source": [
    "from scipy import integrate\n",
    "f = lambda psi,r:L_prime(r,psi,beta_0, beta_1c,beta_1s,theta_0, theta_1c, theta_1s,theta_tw)\n",
    "Total_Thrust_scipy = integrate.dblquad(f,Rrc,R,lambda r:0,lambda r:2*np.pi)[0]"
   ]
  },
  {
   "cell_type": "code",
   "execution_count": 25,
   "metadata": {},
   "outputs": [
    {
     "name": "stdout",
     "output_type": "stream",
     "text": [
      "Total_Thrust:  83686.4446494264\n",
      "CT_integrate:  0.010414384182866483\n"
     ]
    }
   ],
   "source": [
    "Total_Thrust_scipy = blades*Total_Thrust_scipy/(2*np.pi)\n",
    "CT_integrate_scipy = Total_Thrust_scipy/(rho*(omega**2)*(R**4)*np.pi)\n",
    "print('Total_Thrust: ',Total_Thrust_scipy)\n",
    "print('CT_integrate: ',CT_integrate_scipy)"
   ]
  },
  {
   "cell_type": "markdown",
   "metadata": {},
   "source": [
    "##### 4.2 Rolling Moment"
   ]
  },
  {
   "cell_type": "code",
   "execution_count": 26,
   "metadata": {},
   "outputs": [],
   "source": [
    "#Rolling moment\n",
    "@numba.njit\n",
    "def find_rolling_moment(beta_0, beta_1c,beta_1s,theta_0, theta_1c, theta_1s,theta_tw):\n",
    "    rolling_dr = np.zeros(len(dr))\n",
    "    for i in range(len(dr)):\n",
    "        rolling_dpsi = np.zeros(len(dpsi))\n",
    "        for j in range(len(dpsi)):\n",
    "            rolling_dpsi[j] = L_prime(dr[i],dpsi[j],beta_0, beta_1c,beta_1s,theta_0, theta_1c, theta_1s,theta_tw)*dr[i]*np.sin(dpsi[j])\n",
    "        rolling_dr[i] = ((2*np.pi)/(len(dpsi)*2))*(rolling_dpsi[0]+rolling_dpsi[-1]+2*np.sum(rolling_dpsi[1:-1]))\n",
    "\n",
    "    Total_rolling_moment = ((R-Rrc)/(len(dr)*2))*(rolling_dr[0]+rolling_dr[-1]+2*np.sum(rolling_dr[1:-1]))\n",
    "    return Total_rolling_moment"
   ]
  },
  {
   "cell_type": "code",
   "execution_count": 27,
   "metadata": {},
   "outputs": [
    {
     "name": "stdout",
     "output_type": "stream",
     "text": [
      "Rolling Moment:  -34.80656785539928\n",
      "Cm_rolling:  -5.933580218293491e-07\n"
     ]
    }
   ],
   "source": [
    "Rolling_moment = blades*find_rolling_moment(beta_0, beta_1c,beta_1s,theta_0, theta_1c, theta_1s,theta_tw)/(2*np.pi)\n",
    "C_rolling = Rolling_moment/(rho*(omega**2)*(R**5)*np.pi)\n",
    "print('Rolling Moment: ',Rolling_moment)\n",
    "print('Cm_rolling: ',C_rolling)"
   ]
  },
  {
   "cell_type": "markdown",
   "metadata": {},
   "source": [
    "###### 4.3 Pitching Moment"
   ]
  },
  {
   "cell_type": "code",
   "execution_count": 28,
   "metadata": {},
   "outputs": [],
   "source": [
    "#Pitching Moment:\n",
    "@numba.njit\n",
    "def find_pitching_moment(beta_0, beta_1c,beta_1s,theta_0, theta_1c, theta_1s,theta_tw):\n",
    "    pitching_dr = np.zeros(len(dr))\n",
    "    for i in range(len(dr)):\n",
    "        pitching_dpsi = np.zeros(len(dpsi))\n",
    "        for j in range(len(dpsi)):\n",
    "            pitching_dpsi[j] = L_prime(dr[i],dpsi[j],beta_0, beta_1c,beta_1s,theta_0, theta_1c, theta_1s,theta_tw)*dr[i]*np.cos(dpsi[j])\n",
    "        pitching_dr[i] = ((2*np.pi)/(len(dpsi)*2))*(pitching_dpsi[0]+pitching_dpsi[-1]+2*np.sum(pitching_dpsi[1:-1]))\n",
    "\n",
    "    Total_pitching_moment = ((R-Rrc)/(len(dr)*2))*(pitching_dr[0]+pitching_dr[-1]+2*np.sum(pitching_dr[1:-1]))\n",
    "    return Total_pitching_moment\n",
    "      "
   ]
  },
  {
   "cell_type": "code",
   "execution_count": 29,
   "metadata": {},
   "outputs": [
    {
     "name": "stdout",
     "output_type": "stream",
     "text": [
      "Pitching Moment:  13.289264550257442\n",
      "C_pitching:  2.265460862980337e-07\n"
     ]
    }
   ],
   "source": [
    "Pitching_moment = blades*find_pitching_moment(beta_0, beta_1c,beta_1s,theta_0, theta_1c, theta_1s,theta_tw)/(2*np.pi)\n",
    "C_pitching = Pitching_moment/(rho*(omega**2)*(R**5)*np.pi)\n",
    "print('Pitching Moment: ',Pitching_moment)\n",
    "print('C_pitching: ',C_pitching)"
   ]
  },
  {
   "cell_type": "markdown",
   "metadata": {},
   "source": [
    "### 5. Find trim conditios "
   ]
  },
  {
   "cell_type": "code",
   "execution_count": 30,
   "metadata": {},
   "outputs": [],
   "source": [
    "# We will here try to find trim values of θo, βo, β1c + θ1s and β1s - θ1c"
   ]
  },
  {
   "cell_type": "markdown",
   "metadata": {},
   "source": [
    "##### 5.1 Find βo trim values"
   ]
  },
  {
   "cell_type": "code",
   "execution_count": 31,
   "metadata": {},
   "outputs": [],
   "source": [
    "#We will vary βo keeping other values constant\n",
    "beta_0_list = np.array([1,2,3,4,5,6])*np.pi/180\n",
    "\n",
    "##Other values we will choose some appropriate values:\n",
    "\n",
    "beta_1c = -2*np.pi/180\n",
    "beta_1s = 2*np.pi/180\n",
    "\n",
    "theta_0 = 18*np.pi/180\n",
    "theta_tw = -0.3*np.pi/180\n",
    "theta_1c = 2*np.pi/180\n",
    "theta_1s = -11*np.pi/180\n",
    "\n"
   ]
  },
  {
   "cell_type": "code",
   "execution_count": 32,
   "metadata": {},
   "outputs": [],
   "source": [
    "CT_beta_0=[]\n",
    "Cm_roll_beta_0=[]\n",
    "Cm_pitch_beta_0=[]\n",
    "for i in beta_0_list:\n",
    "    beta_0 = i\n",
    "    CT_tmp = (blades*find_Thrust(beta_0, beta_1c,beta_1s,theta_0, theta_1c, theta_1s,theta_tw))/(2*np.pi*(rho*(omega**2)*(R**4)*np.pi))\n",
    "    #print(CT_tmp)\n",
    "    CM_roll_tmp= (blades*find_rolling_moment(beta_0, beta_1c,beta_1s,theta_0, theta_1c, theta_1s,theta_tw))/(2*np.pi*rho*(omega**2)*(R**5)*np.pi)\n",
    "    #print(CM_roll_tmp)\n",
    "    CM_pitch_tmp = (blades*find_pitching_moment(beta_0, beta_1c,beta_1s,theta_0, theta_1c, theta_1s,theta_tw))/(2*np.pi*rho*(omega**2)*(R**5)*np.pi)\n",
    "    CT_beta_0.append(CT_tmp)\n",
    "    Cm_roll_beta_0.append(CM_roll_tmp)\n",
    "    Cm_pitch_beta_0.append(CM_pitch_tmp)"
   ]
  },
  {
   "cell_type": "code",
   "execution_count": 33,
   "metadata": {},
   "outputs": [],
   "source": [
    "beta0_table = pd.DataFrame(columns=['beta0','CT','Cm,pitch','Cm,roll'],index=np.arange(len(beta_0_list)))"
   ]
  },
  {
   "cell_type": "code",
   "execution_count": 34,
   "metadata": {},
   "outputs": [],
   "source": [
    "beta0_table['beta0']=beta_0_list*180/np.pi\n",
    "beta0_table['CT']=CT_beta_0\n",
    "beta0_table['Cm,pitch']=Cm_pitch_beta_0\n",
    "beta0_table['Cm,roll']=Cm_roll_beta_0"
   ]
  },
  {
   "cell_type": "code",
   "execution_count": 35,
   "metadata": {},
   "outputs": [
    {
     "data": {
      "text/html": [
       "<div>\n",
       "<style scoped>\n",
       "    .dataframe tbody tr th:only-of-type {\n",
       "        vertical-align: middle;\n",
       "    }\n",
       "\n",
       "    .dataframe tbody tr th {\n",
       "        vertical-align: top;\n",
       "    }\n",
       "\n",
       "    .dataframe thead th {\n",
       "        text-align: right;\n",
       "    }\n",
       "</style>\n",
       "<table border=\"1\" class=\"dataframe\">\n",
       "  <thead>\n",
       "    <tr style=\"text-align: right;\">\n",
       "      <th></th>\n",
       "      <th>beta0</th>\n",
       "      <th>CT</th>\n",
       "      <th>Cm,pitch</th>\n",
       "      <th>Cm,roll</th>\n",
       "    </tr>\n",
       "  </thead>\n",
       "  <tbody>\n",
       "    <tr>\n",
       "      <th>0</th>\n",
       "      <td>1.0</td>\n",
       "      <td>0.009552</td>\n",
       "      <td>0.000472</td>\n",
       "      <td>-0.000229</td>\n",
       "    </tr>\n",
       "    <tr>\n",
       "      <th>1</th>\n",
       "      <td>2.0</td>\n",
       "      <td>0.009566</td>\n",
       "      <td>0.000193</td>\n",
       "      <td>-0.000225</td>\n",
       "    </tr>\n",
       "    <tr>\n",
       "      <th>2</th>\n",
       "      <td>3.0</td>\n",
       "      <td>0.009582</td>\n",
       "      <td>-0.000086</td>\n",
       "      <td>-0.000221</td>\n",
       "    </tr>\n",
       "    <tr>\n",
       "      <th>3</th>\n",
       "      <td>4.0</td>\n",
       "      <td>0.009600</td>\n",
       "      <td>-0.000365</td>\n",
       "      <td>-0.000215</td>\n",
       "    </tr>\n",
       "    <tr>\n",
       "      <th>4</th>\n",
       "      <td>5.0</td>\n",
       "      <td>0.009622</td>\n",
       "      <td>-0.000643</td>\n",
       "      <td>-0.000208</td>\n",
       "    </tr>\n",
       "    <tr>\n",
       "      <th>5</th>\n",
       "      <td>6.0</td>\n",
       "      <td>0.009646</td>\n",
       "      <td>-0.000922</td>\n",
       "      <td>-0.000201</td>\n",
       "    </tr>\n",
       "  </tbody>\n",
       "</table>\n",
       "</div>"
      ],
      "text/plain": [
       "   beta0        CT  Cm,pitch   Cm,roll\n",
       "0    1.0  0.009552  0.000472 -0.000229\n",
       "1    2.0  0.009566  0.000193 -0.000225\n",
       "2    3.0  0.009582 -0.000086 -0.000221\n",
       "3    4.0  0.009600 -0.000365 -0.000215\n",
       "4    5.0  0.009622 -0.000643 -0.000208\n",
       "5    6.0  0.009646 -0.000922 -0.000201"
      ]
     },
     "execution_count": 35,
     "metadata": {},
     "output_type": "execute_result"
    }
   ],
   "source": [
    "beta0_table"
   ]
  },
  {
   "cell_type": "markdown",
   "metadata": {},
   "source": [
    "##### 5.2  Find β1c trim values"
   ]
  },
  {
   "cell_type": "code",
   "execution_count": 36,
   "metadata": {},
   "outputs": [],
   "source": [
    "#We will vary β1c keeping other values constant\n",
    "beta_1c_list = np.array([-1,-2,-3,-4,-5,-6])*np.pi/180\n",
    "\n",
    "##Other values we will choose some appropriate values:\n",
    "beta_0 = 3*np.pi/180\n",
    "beta_1s = 2*np.pi/180\n",
    "\n",
    "theta_0 = 18*np.pi/180\n",
    "theta_tw = -0.3*np.pi/180\n",
    "theta_1c = 2*np.pi/180\n",
    "theta_1s = -11*np.pi/180\n",
    "\n",
    "\n"
   ]
  },
  {
   "cell_type": "code",
   "execution_count": 37,
   "metadata": {},
   "outputs": [],
   "source": [
    "CT_beta_1c=[]\n",
    "Cm_roll_beta_1c=[]\n",
    "Cm_pitch_beta_1c=[]\n",
    "for i in beta_1c_list:\n",
    "    beta_1c = i\n",
    "    CT_tmp = (blades*find_Thrust(beta_0, beta_1c,beta_1s,theta_0, theta_1c, theta_1s,theta_tw))/(2*np.pi*(rho*(omega**2)*(R**4)*np.pi))\n",
    "    #print(CT_tmp)\n",
    "    CM_roll_tmp= (blades*find_rolling_moment(beta_0, beta_1c,beta_1s,theta_0, theta_1c, theta_1s,theta_tw))/(2*np.pi*rho*(omega**2)*(R**5)*np.pi)\n",
    "    #print(CM_roll_tmp)\n",
    "    CM_pitch_tmp = (blades*find_pitching_moment(beta_0, beta_1c,beta_1s,theta_0, theta_1c, theta_1s,theta_tw))/(2*np.pi*rho*(omega**2)*(R**5)*np.pi)\n",
    "    CT_beta_1c.append(CT_tmp)\n",
    "    Cm_roll_beta_1c.append(CM_roll_tmp)\n",
    "    Cm_pitch_beta_1c.append(CM_pitch_tmp)"
   ]
  },
  {
   "cell_type": "code",
   "execution_count": 38,
   "metadata": {},
   "outputs": [],
   "source": [
    "beta_1c_table = pd.DataFrame(columns=['beta_1c','CT','Cm,pitch','Cm,roll'],index=np.arange(len(beta_1c_list)))"
   ]
  },
  {
   "cell_type": "code",
   "execution_count": 39,
   "metadata": {},
   "outputs": [],
   "source": [
    "beta_1c_table['beta_1c']=beta_1c_list*180/np.pi\n",
    "beta_1c_table['CT']=CT_beta_1c\n",
    "beta_1c_table['Cm,pitch']=Cm_pitch_beta_1c\n",
    "beta_1c_table['Cm,roll']=Cm_roll_beta_1c"
   ]
  },
  {
   "cell_type": "code",
   "execution_count": 40,
   "metadata": {},
   "outputs": [
    {
     "data": {
      "text/html": [
       "<div>\n",
       "<style scoped>\n",
       "    .dataframe tbody tr th:only-of-type {\n",
       "        vertical-align: middle;\n",
       "    }\n",
       "\n",
       "    .dataframe tbody tr th {\n",
       "        vertical-align: top;\n",
       "    }\n",
       "\n",
       "    .dataframe thead th {\n",
       "        text-align: right;\n",
       "    }\n",
       "</style>\n",
       "<table border=\"1\" class=\"dataframe\">\n",
       "  <thead>\n",
       "    <tr style=\"text-align: right;\">\n",
       "      <th></th>\n",
       "      <th>beta_1c</th>\n",
       "      <th>CT</th>\n",
       "      <th>Cm,pitch</th>\n",
       "      <th>Cm,roll</th>\n",
       "    </tr>\n",
       "  </thead>\n",
       "  <tbody>\n",
       "    <tr>\n",
       "      <th>0</th>\n",
       "      <td>-1.0</td>\n",
       "      <td>0.009155</td>\n",
       "      <td>-0.000079</td>\n",
       "      <td>-0.000258</td>\n",
       "    </tr>\n",
       "    <tr>\n",
       "      <th>1</th>\n",
       "      <td>-2.0</td>\n",
       "      <td>0.009582</td>\n",
       "      <td>-0.000086</td>\n",
       "      <td>-0.000221</td>\n",
       "    </tr>\n",
       "    <tr>\n",
       "      <th>2</th>\n",
       "      <td>-3.0</td>\n",
       "      <td>0.010009</td>\n",
       "      <td>-0.000093</td>\n",
       "      <td>-0.000183</td>\n",
       "    </tr>\n",
       "    <tr>\n",
       "      <th>3</th>\n",
       "      <td>-4.0</td>\n",
       "      <td>0.010437</td>\n",
       "      <td>-0.000101</td>\n",
       "      <td>-0.000146</td>\n",
       "    </tr>\n",
       "    <tr>\n",
       "      <th>4</th>\n",
       "      <td>-5.0</td>\n",
       "      <td>0.010867</td>\n",
       "      <td>-0.000108</td>\n",
       "      <td>-0.000108</td>\n",
       "    </tr>\n",
       "    <tr>\n",
       "      <th>5</th>\n",
       "      <td>-6.0</td>\n",
       "      <td>0.011297</td>\n",
       "      <td>-0.000115</td>\n",
       "      <td>-0.000070</td>\n",
       "    </tr>\n",
       "  </tbody>\n",
       "</table>\n",
       "</div>"
      ],
      "text/plain": [
       "   beta_1c        CT  Cm,pitch   Cm,roll\n",
       "0     -1.0  0.009155 -0.000079 -0.000258\n",
       "1     -2.0  0.009582 -0.000086 -0.000221\n",
       "2     -3.0  0.010009 -0.000093 -0.000183\n",
       "3     -4.0  0.010437 -0.000101 -0.000146\n",
       "4     -5.0  0.010867 -0.000108 -0.000108\n",
       "5     -6.0  0.011297 -0.000115 -0.000070"
      ]
     },
     "execution_count": 40,
     "metadata": {},
     "output_type": "execute_result"
    }
   ],
   "source": [
    "beta_1c_table"
   ]
  },
  {
   "cell_type": "markdown",
   "metadata": {},
   "source": [
    "##### 5.3  Find β1s trim values"
   ]
  },
  {
   "cell_type": "code",
   "execution_count": 41,
   "metadata": {},
   "outputs": [],
   "source": [
    "#We will vary β1s keeping other values constant\n",
    "beta_1s_list = np.array([1,2,3,4,5,6])*np.pi/180\n",
    "\n",
    "\n",
    "##Other values we will choose some appropriate values:\n",
    "\n",
    "beta_0 = 3*np.pi/180\n",
    "beta_1c= -2*np.pi/180\n",
    "\n",
    "theta_0 = 18*np.pi/180\n",
    "theta_tw = -0.3*np.pi/180\n",
    "theta_1c = 2*np.pi/180\n",
    "theta_1s = -11*np.pi/180"
   ]
  },
  {
   "cell_type": "code",
   "execution_count": 42,
   "metadata": {},
   "outputs": [],
   "source": [
    "CT_beta_1s=[]\n",
    "Cm_roll_beta_1s=[]\n",
    "Cm_pitch_beta_1s=[]\n",
    "for i in beta_1s_list:\n",
    "    beta_1s = i\n",
    "    CT_tmp = (blades*find_Thrust(beta_0, beta_1c,beta_1s,theta_0, theta_1c, theta_1s,theta_tw))/(2*np.pi*(rho*(omega**2)*(R**4)*np.pi))\n",
    "    #print(CT_tmp)\n",
    "    CM_roll_tmp= (blades*find_rolling_moment(beta_0, beta_1c,beta_1s,theta_0, theta_1c, theta_1s,theta_tw))/(2*np.pi*rho*(omega**2)*(R**5)*np.pi)\n",
    "    #print(CM_roll_tmp)\n",
    "    CM_pitch_tmp = (blades*find_pitching_moment(beta_0, beta_1c,beta_1s,theta_0, theta_1c, theta_1s,theta_tw))/(2*np.pi*rho*(omega**2)*(R**5)*np.pi)\n",
    "    CT_beta_1s.append(CT_tmp)\n",
    "    Cm_roll_beta_1s.append(CM_roll_tmp)\n",
    "    Cm_pitch_beta_1s.append(CM_pitch_tmp)"
   ]
  },
  {
   "cell_type": "code",
   "execution_count": 43,
   "metadata": {},
   "outputs": [],
   "source": [
    "beta_1s_table = pd.DataFrame(columns=['beta_1s','CT','Cm,pitch','Cm,roll'],index=np.arange(len(beta_1s_list)))"
   ]
  },
  {
   "cell_type": "code",
   "execution_count": 44,
   "metadata": {},
   "outputs": [],
   "source": [
    "beta_1s_table['beta_1s']=beta_1s_list*180/np.pi\n",
    "beta_1s_table['CT']=CT_beta_1s\n",
    "beta_1s_table['Cm,pitch']=Cm_pitch_beta_1s\n",
    "beta_1s_table['Cm,roll']=Cm_roll_beta_1s"
   ]
  },
  {
   "cell_type": "code",
   "execution_count": 45,
   "metadata": {},
   "outputs": [
    {
     "data": {
      "text/html": [
       "<div>\n",
       "<style scoped>\n",
       "    .dataframe tbody tr th:only-of-type {\n",
       "        vertical-align: middle;\n",
       "    }\n",
       "\n",
       "    .dataframe tbody tr th {\n",
       "        vertical-align: top;\n",
       "    }\n",
       "\n",
       "    .dataframe thead th {\n",
       "        text-align: right;\n",
       "    }\n",
       "</style>\n",
       "<table border=\"1\" class=\"dataframe\">\n",
       "  <thead>\n",
       "    <tr style=\"text-align: right;\">\n",
       "      <th></th>\n",
       "      <th>beta_1s</th>\n",
       "      <th>CT</th>\n",
       "      <th>Cm,pitch</th>\n",
       "      <th>Cm,roll</th>\n",
       "    </tr>\n",
       "  </thead>\n",
       "  <tbody>\n",
       "    <tr>\n",
       "      <th>0</th>\n",
       "      <td>1.0</td>\n",
       "      <td>0.009573</td>\n",
       "      <td>-0.000049</td>\n",
       "      <td>-0.000226</td>\n",
       "    </tr>\n",
       "    <tr>\n",
       "      <th>1</th>\n",
       "      <td>2.0</td>\n",
       "      <td>0.009582</td>\n",
       "      <td>-0.000086</td>\n",
       "      <td>-0.000221</td>\n",
       "    </tr>\n",
       "    <tr>\n",
       "      <th>2</th>\n",
       "      <td>3.0</td>\n",
       "      <td>0.009592</td>\n",
       "      <td>-0.000123</td>\n",
       "      <td>-0.000214</td>\n",
       "    </tr>\n",
       "    <tr>\n",
       "      <th>3</th>\n",
       "      <td>4.0</td>\n",
       "      <td>0.009604</td>\n",
       "      <td>-0.000160</td>\n",
       "      <td>-0.000208</td>\n",
       "    </tr>\n",
       "    <tr>\n",
       "      <th>4</th>\n",
       "      <td>5.0</td>\n",
       "      <td>0.009617</td>\n",
       "      <td>-0.000197</td>\n",
       "      <td>-0.000200</td>\n",
       "    </tr>\n",
       "    <tr>\n",
       "      <th>5</th>\n",
       "      <td>6.0</td>\n",
       "      <td>0.009632</td>\n",
       "      <td>-0.000234</td>\n",
       "      <td>-0.000192</td>\n",
       "    </tr>\n",
       "  </tbody>\n",
       "</table>\n",
       "</div>"
      ],
      "text/plain": [
       "   beta_1s        CT  Cm,pitch   Cm,roll\n",
       "0      1.0  0.009573 -0.000049 -0.000226\n",
       "1      2.0  0.009582 -0.000086 -0.000221\n",
       "2      3.0  0.009592 -0.000123 -0.000214\n",
       "3      4.0  0.009604 -0.000160 -0.000208\n",
       "4      5.0  0.009617 -0.000197 -0.000200\n",
       "5      6.0  0.009632 -0.000234 -0.000192"
      ]
     },
     "execution_count": 45,
     "metadata": {},
     "output_type": "execute_result"
    }
   ],
   "source": [
    "beta_1s_table"
   ]
  },
  {
   "cell_type": "markdown",
   "metadata": {},
   "source": [
    "##### 5.4  Find θo trim values"
   ]
  },
  {
   "cell_type": "code",
   "execution_count": 46,
   "metadata": {},
   "outputs": [],
   "source": [
    "#We will vary θo keeping other values constant\n",
    "theta_0_list = np.array([15,16,17,18,19,20])*np.pi/180\n",
    "\n",
    "##Other values we will choose some appropriate values:\n",
    "\n",
    "beta_0 = 3*np.pi/180\n",
    "beta_1c= -2*np.pi/180\n",
    "beta_1s= 2*np.pi/180\n",
    "\n",
    "theta_tw = -0.3*np.pi/180\n",
    "theta_1c = 2*np.pi/180\n",
    "theta_1s = -11*np.pi/180"
   ]
  },
  {
   "cell_type": "code",
   "execution_count": 47,
   "metadata": {},
   "outputs": [],
   "source": [
    "CT_theta_0=[]\n",
    "Cm_roll_theta_0=[]\n",
    "Cm_pitch_theta_0=[]\n",
    "for i in theta_0_list:\n",
    "    theta_0 = i\n",
    "    CT_tmp = (blades*find_Thrust(beta_0, beta_1c,beta_1s,theta_0, theta_1c, theta_1s,theta_tw))/(2*np.pi*(rho*(omega**2)*(R**4)*np.pi))\n",
    "    #print(CT_tmp)\n",
    "    CM_roll_tmp= (blades*find_rolling_moment(beta_0, beta_1c,beta_1s,theta_0, theta_1c, theta_1s,theta_tw))/(2*np.pi*rho*(omega**2)*(R**5)*np.pi)\n",
    "    #print(CM_roll_tmp)\n",
    "    CM_pitch_tmp = (blades*find_pitching_moment(beta_0, beta_1c,beta_1s,theta_0, theta_1c, theta_1s,theta_tw))/(2*np.pi*rho*(omega**2)*(R**5)*np.pi)\n",
    "    CT_theta_0.append(CT_tmp)\n",
    "    Cm_roll_theta_0.append(CM_roll_tmp)\n",
    "    Cm_pitch_theta_0.append(CM_pitch_tmp)"
   ]
  },
  {
   "cell_type": "code",
   "execution_count": 48,
   "metadata": {},
   "outputs": [],
   "source": [
    "theta_0_table = pd.DataFrame(columns=['theta_0','CT','Cm,pitch','Cm,roll'],index=np.arange(len(theta_0_list)))"
   ]
  },
  {
   "cell_type": "code",
   "execution_count": 49,
   "metadata": {},
   "outputs": [],
   "source": [
    "theta_0_table['theta_0']=theta_0_list*180/np.pi\n",
    "theta_0_table['CT']=CT_theta_0\n",
    "theta_0_table['Cm,pitch']=Cm_pitch_theta_0\n",
    "theta_0_table['Cm,roll']=Cm_roll_theta_0"
   ]
  },
  {
   "cell_type": "code",
   "execution_count": 50,
   "metadata": {},
   "outputs": [
    {
     "data": {
      "text/html": [
       "<div>\n",
       "<style scoped>\n",
       "    .dataframe tbody tr th:only-of-type {\n",
       "        vertical-align: middle;\n",
       "    }\n",
       "\n",
       "    .dataframe tbody tr th {\n",
       "        vertical-align: top;\n",
       "    }\n",
       "\n",
       "    .dataframe thead th {\n",
       "        text-align: right;\n",
       "    }\n",
       "</style>\n",
       "<table border=\"1\" class=\"dataframe\">\n",
       "  <thead>\n",
       "    <tr style=\"text-align: right;\">\n",
       "      <th></th>\n",
       "      <th>theta_0</th>\n",
       "      <th>CT</th>\n",
       "      <th>Cm,pitch</th>\n",
       "      <th>Cm,roll</th>\n",
       "    </tr>\n",
       "  </thead>\n",
       "  <tbody>\n",
       "    <tr>\n",
       "      <th>0</th>\n",
       "      <td>15.0</td>\n",
       "      <td>0.003853</td>\n",
       "      <td>-0.000095</td>\n",
       "      <td>-0.001945</td>\n",
       "    </tr>\n",
       "    <tr>\n",
       "      <th>1</th>\n",
       "      <td>16.0</td>\n",
       "      <td>0.005762</td>\n",
       "      <td>-0.000092</td>\n",
       "      <td>-0.001370</td>\n",
       "    </tr>\n",
       "    <tr>\n",
       "      <th>2</th>\n",
       "      <td>17.0</td>\n",
       "      <td>0.007672</td>\n",
       "      <td>-0.000089</td>\n",
       "      <td>-0.000795</td>\n",
       "    </tr>\n",
       "    <tr>\n",
       "      <th>3</th>\n",
       "      <td>18.0</td>\n",
       "      <td>0.009582</td>\n",
       "      <td>-0.000086</td>\n",
       "      <td>-0.000221</td>\n",
       "    </tr>\n",
       "    <tr>\n",
       "      <th>4</th>\n",
       "      <td>19.0</td>\n",
       "      <td>0.011491</td>\n",
       "      <td>-0.000083</td>\n",
       "      <td>0.000354</td>\n",
       "    </tr>\n",
       "    <tr>\n",
       "      <th>5</th>\n",
       "      <td>20.0</td>\n",
       "      <td>0.013401</td>\n",
       "      <td>-0.000080</td>\n",
       "      <td>0.000929</td>\n",
       "    </tr>\n",
       "  </tbody>\n",
       "</table>\n",
       "</div>"
      ],
      "text/plain": [
       "   theta_0        CT  Cm,pitch   Cm,roll\n",
       "0     15.0  0.003853 -0.000095 -0.001945\n",
       "1     16.0  0.005762 -0.000092 -0.001370\n",
       "2     17.0  0.007672 -0.000089 -0.000795\n",
       "3     18.0  0.009582 -0.000086 -0.000221\n",
       "4     19.0  0.011491 -0.000083  0.000354\n",
       "5     20.0  0.013401 -0.000080  0.000929"
      ]
     },
     "execution_count": 50,
     "metadata": {},
     "output_type": "execute_result"
    }
   ],
   "source": [
    "theta_0_table"
   ]
  },
  {
   "cell_type": "markdown",
   "metadata": {},
   "source": [
    "##### 5.5 Find θtw trim values"
   ]
  },
  {
   "cell_type": "code",
   "execution_count": 51,
   "metadata": {},
   "outputs": [],
   "source": [
    "#We will vary θtw keeping other values constant\n",
    "theta_tw_list = np.array([-0.1,-0.2,-0.3,-0.4,-0.5,-0.6])*np.pi/180\n",
    "\n",
    "##Other values we will choose some appropriate values:\n",
    "\n",
    "beta_0 = 3*np.pi/180\n",
    "beta_1c= -2*np.pi/180\n",
    "beta_1s= 2*np.pi/180\n",
    "\n",
    "theta_0=18*np.pi/180\n",
    "theta_1c = 2*np.pi/180\n",
    "theta_1s = -11*np.pi/180"
   ]
  },
  {
   "cell_type": "code",
   "execution_count": 52,
   "metadata": {},
   "outputs": [],
   "source": [
    "CT_theta_tw=[]\n",
    "Cm_roll_theta_tw=[]\n",
    "Cm_pitch_theta_tw=[]\n",
    "for i in theta_tw_list:\n",
    "    theta_tw = i\n",
    "    CT_tmp = (blades*find_Thrust(beta_0, beta_1c,beta_1s,theta_0, theta_1c, theta_1s,theta_tw))/(2*np.pi*(rho*(omega**2)*(R**4)*np.pi))\n",
    "    #print(CT_tmp)\n",
    "    CM_roll_tmp= (blades*find_rolling_moment(beta_0, beta_1c,beta_1s,theta_0, theta_1c, theta_1s,theta_tw))/(2*np.pi*rho*(omega**2)*(R**5)*np.pi)\n",
    "    #print(CM_roll_tmp)\n",
    "    CM_pitch_tmp = (blades*find_pitching_moment(beta_0, beta_1c,beta_1s,theta_0, theta_1c, theta_1s,theta_tw))/(2*np.pi*rho*(omega**2)*(R**5)*np.pi)\n",
    "    CT_theta_tw.append(CT_tmp)\n",
    "    Cm_roll_theta_tw.append(CM_roll_tmp)\n",
    "    Cm_pitch_theta_tw.append(CM_pitch_tmp)"
   ]
  },
  {
   "cell_type": "code",
   "execution_count": 53,
   "metadata": {},
   "outputs": [],
   "source": [
    "theta_tw_table = pd.DataFrame(columns=['theta_tw','CT','Cm,pitch','Cm,roll'],index=np.arange(len(theta_tw_list)))"
   ]
  },
  {
   "cell_type": "code",
   "execution_count": 54,
   "metadata": {},
   "outputs": [],
   "source": [
    "theta_tw_table['theta_tw']=theta_tw_list*180/np.pi\n",
    "theta_tw_table['CT']=CT_theta_tw\n",
    "theta_tw_table['Cm,pitch']=Cm_pitch_theta_tw\n",
    "theta_tw_table['Cm,roll']=Cm_roll_theta_tw"
   ]
  },
  {
   "cell_type": "code",
   "execution_count": 55,
   "metadata": {},
   "outputs": [
    {
     "data": {
      "text/html": [
       "<div>\n",
       "<style scoped>\n",
       "    .dataframe tbody tr th:only-of-type {\n",
       "        vertical-align: middle;\n",
       "    }\n",
       "\n",
       "    .dataframe tbody tr th {\n",
       "        vertical-align: top;\n",
       "    }\n",
       "\n",
       "    .dataframe thead th {\n",
       "        text-align: right;\n",
       "    }\n",
       "</style>\n",
       "<table border=\"1\" class=\"dataframe\">\n",
       "  <thead>\n",
       "    <tr style=\"text-align: right;\">\n",
       "      <th></th>\n",
       "      <th>theta_tw</th>\n",
       "      <th>CT</th>\n",
       "      <th>Cm,pitch</th>\n",
       "      <th>Cm,roll</th>\n",
       "    </tr>\n",
       "  </thead>\n",
       "  <tbody>\n",
       "    <tr>\n",
       "      <th>0</th>\n",
       "      <td>-0.1</td>\n",
       "      <td>0.009858</td>\n",
       "      <td>-0.000086</td>\n",
       "      <td>-0.000134</td>\n",
       "    </tr>\n",
       "    <tr>\n",
       "      <th>1</th>\n",
       "      <td>-0.2</td>\n",
       "      <td>0.009720</td>\n",
       "      <td>-0.000086</td>\n",
       "      <td>-0.000177</td>\n",
       "    </tr>\n",
       "    <tr>\n",
       "      <th>2</th>\n",
       "      <td>-0.3</td>\n",
       "      <td>0.009582</td>\n",
       "      <td>-0.000086</td>\n",
       "      <td>-0.000221</td>\n",
       "    </tr>\n",
       "    <tr>\n",
       "      <th>3</th>\n",
       "      <td>-0.4</td>\n",
       "      <td>0.009443</td>\n",
       "      <td>-0.000086</td>\n",
       "      <td>-0.000264</td>\n",
       "    </tr>\n",
       "    <tr>\n",
       "      <th>4</th>\n",
       "      <td>-0.5</td>\n",
       "      <td>0.009305</td>\n",
       "      <td>-0.000086</td>\n",
       "      <td>-0.000307</td>\n",
       "    </tr>\n",
       "    <tr>\n",
       "      <th>5</th>\n",
       "      <td>-0.6</td>\n",
       "      <td>0.009167</td>\n",
       "      <td>-0.000087</td>\n",
       "      <td>-0.000350</td>\n",
       "    </tr>\n",
       "  </tbody>\n",
       "</table>\n",
       "</div>"
      ],
      "text/plain": [
       "   theta_tw        CT  Cm,pitch   Cm,roll\n",
       "0      -0.1  0.009858 -0.000086 -0.000134\n",
       "1      -0.2  0.009720 -0.000086 -0.000177\n",
       "2      -0.3  0.009582 -0.000086 -0.000221\n",
       "3      -0.4  0.009443 -0.000086 -0.000264\n",
       "4      -0.5  0.009305 -0.000086 -0.000307\n",
       "5      -0.6  0.009167 -0.000087 -0.000350"
      ]
     },
     "execution_count": 55,
     "metadata": {},
     "output_type": "execute_result"
    }
   ],
   "source": [
    "theta_tw_table"
   ]
  },
  {
   "cell_type": "markdown",
   "metadata": {},
   "source": [
    "##### 5.6 Find θ1c trim values"
   ]
  },
  {
   "cell_type": "code",
   "execution_count": 56,
   "metadata": {},
   "outputs": [],
   "source": [
    "#We will vary θ1c keeping other values constant\n",
    "theta_1c_list = np.array([1,2,3,4,5,6])*np.pi/180\n",
    "\n",
    "##Other values we will choose some appropriate values:\n",
    "\n",
    "beta_0 = 3*np.pi/180\n",
    "beta_1c= -2*np.pi/180\n",
    "beta_1s= 2*np.pi/180\n",
    "\n",
    "theta_0=18*np.pi/180\n",
    "theta_tw = -0.3*np.pi/180\n",
    "theta_1s = -11*np.pi/180"
   ]
  },
  {
   "cell_type": "code",
   "execution_count": 57,
   "metadata": {},
   "outputs": [],
   "source": [
    "CT_theta_1c=[]\n",
    "Cm_roll_theta_1c=[]\n",
    "Cm_pitch_theta_1c=[]\n",
    "for i in theta_1c_list:\n",
    "    theta_1c = i\n",
    "    CT_tmp = (blades*find_Thrust(beta_0, beta_1c,beta_1s,theta_0, theta_1c, theta_1s,theta_tw))/(2*np.pi*(rho*(omega**2)*(R**4)*np.pi))\n",
    "    #print(CT_tmp)\n",
    "    CM_roll_tmp= (blades*find_rolling_moment(beta_0, beta_1c,beta_1s,theta_0, theta_1c, theta_1s,theta_tw))/(2*np.pi*rho*(omega**2)*(R**5)*np.pi)\n",
    "    #print(CM_roll_tmp)\n",
    "    CM_pitch_tmp = (blades*find_pitching_moment(beta_0, beta_1c,beta_1s,theta_0, theta_1c, theta_1s,theta_tw))/(2*np.pi*rho*(omega**2)*(R**5)*np.pi)\n",
    "    CT_theta_1c.append(CT_tmp)\n",
    "    Cm_roll_theta_1c.append(CM_roll_tmp)\n",
    "    Cm_pitch_theta_1c.append(CM_pitch_tmp)"
   ]
  },
  {
   "cell_type": "code",
   "execution_count": 58,
   "metadata": {},
   "outputs": [],
   "source": [
    "theta_1c_table = pd.DataFrame(columns=['theta_1c','CT','Cm,pitch','Cm,roll'],index=np.arange(len(theta_1c_list)))"
   ]
  },
  {
   "cell_type": "code",
   "execution_count": 59,
   "metadata": {},
   "outputs": [],
   "source": [
    "theta_1c_table['theta_1c']=theta_1c_list*180/np.pi\n",
    "theta_1c_table['CT']=CT_theta_1c\n",
    "theta_1c_table['Cm,pitch']=Cm_pitch_theta_1c\n",
    "theta_1c_table['Cm,roll']=Cm_roll_theta_1c"
   ]
  },
  {
   "cell_type": "code",
   "execution_count": 60,
   "metadata": {},
   "outputs": [
    {
     "data": {
      "text/html": [
       "<div>\n",
       "<style scoped>\n",
       "    .dataframe tbody tr th:only-of-type {\n",
       "        vertical-align: middle;\n",
       "    }\n",
       "\n",
       "    .dataframe tbody tr th {\n",
       "        vertical-align: top;\n",
       "    }\n",
       "\n",
       "    .dataframe thead th {\n",
       "        text-align: right;\n",
       "    }\n",
       "</style>\n",
       "<table border=\"1\" class=\"dataframe\">\n",
       "  <thead>\n",
       "    <tr style=\"text-align: right;\">\n",
       "      <th></th>\n",
       "      <th>theta_1c</th>\n",
       "      <th>CT</th>\n",
       "      <th>Cm,pitch</th>\n",
       "      <th>Cm,roll</th>\n",
       "    </tr>\n",
       "  </thead>\n",
       "  <tbody>\n",
       "    <tr>\n",
       "      <th>0</th>\n",
       "      <td>1.0</td>\n",
       "      <td>0.009576</td>\n",
       "      <td>-0.000738</td>\n",
       "      <td>-0.000221</td>\n",
       "    </tr>\n",
       "    <tr>\n",
       "      <th>1</th>\n",
       "      <td>2.0</td>\n",
       "      <td>0.009582</td>\n",
       "      <td>-0.000086</td>\n",
       "      <td>-0.000221</td>\n",
       "    </tr>\n",
       "    <tr>\n",
       "      <th>2</th>\n",
       "      <td>3.0</td>\n",
       "      <td>0.009588</td>\n",
       "      <td>0.000566</td>\n",
       "      <td>-0.000220</td>\n",
       "    </tr>\n",
       "    <tr>\n",
       "      <th>3</th>\n",
       "      <td>4.0</td>\n",
       "      <td>0.009594</td>\n",
       "      <td>0.001218</td>\n",
       "      <td>-0.000219</td>\n",
       "    </tr>\n",
       "    <tr>\n",
       "      <th>4</th>\n",
       "      <td>5.0</td>\n",
       "      <td>0.009600</td>\n",
       "      <td>0.001870</td>\n",
       "      <td>-0.000218</td>\n",
       "    </tr>\n",
       "    <tr>\n",
       "      <th>5</th>\n",
       "      <td>6.0</td>\n",
       "      <td>0.009606</td>\n",
       "      <td>0.002522</td>\n",
       "      <td>-0.000217</td>\n",
       "    </tr>\n",
       "  </tbody>\n",
       "</table>\n",
       "</div>"
      ],
      "text/plain": [
       "   theta_1c        CT  Cm,pitch   Cm,roll\n",
       "0       1.0  0.009576 -0.000738 -0.000221\n",
       "1       2.0  0.009582 -0.000086 -0.000221\n",
       "2       3.0  0.009588  0.000566 -0.000220\n",
       "3       4.0  0.009594  0.001218 -0.000219\n",
       "4       5.0  0.009600  0.001870 -0.000218\n",
       "5       6.0  0.009606  0.002522 -0.000217"
      ]
     },
     "execution_count": 60,
     "metadata": {},
     "output_type": "execute_result"
    }
   ],
   "source": [
    "theta_1c_table"
   ]
  },
  {
   "cell_type": "markdown",
   "metadata": {},
   "source": [
    "##### 5.7 Find θ1s trim values"
   ]
  },
  {
   "cell_type": "code",
   "execution_count": 61,
   "metadata": {},
   "outputs": [],
   "source": [
    "#We will vary θ1s keeping other values constant\n",
    "theta_1s_list = np.array([-9,-10,-11,-12,-13,-14])*np.pi/180\n",
    "\n",
    "##Other values we will choose some appropriate values:\n",
    "\n",
    "beta_0 = 3*np.pi/180\n",
    "beta_1c= -2*np.pi/180\n",
    "beta_1s= 2*np.pi/180\n",
    "\n",
    "theta_0=18*np.pi/180\n",
    "theta_tw = -0.3*np.pi/180\n",
    "theta_1c = 2*np.pi/180"
   ]
  },
  {
   "cell_type": "code",
   "execution_count": 62,
   "metadata": {},
   "outputs": [],
   "source": [
    "CT_theta_1s=[]\n",
    "Cm_roll_theta_1s=[]\n",
    "Cm_pitch_theta_1s=[]\n",
    "for i in theta_1s_list:\n",
    "    theta_1s = i\n",
    "    CT_tmp = (blades*find_Thrust(beta_0, beta_1c,beta_1s,theta_0, theta_1c, theta_1s,theta_tw))/(2*np.pi*(rho*(omega**2)*(R**4)*np.pi))\n",
    "    #print(CT_tmp)\n",
    "    CM_roll_tmp= (blades*find_rolling_moment(beta_0, beta_1c,beta_1s,theta_0, theta_1c, theta_1s,theta_tw))/(2*np.pi*rho*(omega**2)*(R**5)*np.pi)\n",
    "    #print(CM_roll_tmp)\n",
    "    CM_pitch_tmp = (blades*find_pitching_moment(beta_0, beta_1c,beta_1s,theta_0, theta_1c, theta_1s,theta_tw))/(2*np.pi*rho*(omega**2)*(R**5)*np.pi)\n",
    "    CT_theta_1s.append(CT_tmp)\n",
    "    Cm_roll_theta_1s.append(CM_roll_tmp)\n",
    "    Cm_pitch_theta_1s.append(CM_pitch_tmp)"
   ]
  },
  {
   "cell_type": "code",
   "execution_count": 63,
   "metadata": {},
   "outputs": [],
   "source": [
    "theta_1s_table = pd.DataFrame(columns=['theta_1s','CT','Cm,pitch','Cm,roll'],index=np.arange(len(theta_1s_list)))"
   ]
  },
  {
   "cell_type": "code",
   "execution_count": 64,
   "metadata": {},
   "outputs": [],
   "source": [
    "theta_1s_table['theta_1s']=theta_1s_list*180/np.pi\n",
    "theta_1s_table['CT']=CT_theta_1s\n",
    "theta_1s_table['Cm,pitch']=Cm_pitch_theta_1s\n",
    "theta_1s_table['Cm,roll']=Cm_roll_theta_1s"
   ]
  },
  {
   "cell_type": "code",
   "execution_count": 65,
   "metadata": {},
   "outputs": [
    {
     "data": {
      "text/html": [
       "<div>\n",
       "<style scoped>\n",
       "    .dataframe tbody tr th:only-of-type {\n",
       "        vertical-align: middle;\n",
       "    }\n",
       "\n",
       "    .dataframe tbody tr th {\n",
       "        vertical-align: top;\n",
       "    }\n",
       "\n",
       "    .dataframe thead th {\n",
       "        text-align: right;\n",
       "    }\n",
       "</style>\n",
       "<table border=\"1\" class=\"dataframe\">\n",
       "  <thead>\n",
       "    <tr style=\"text-align: right;\">\n",
       "      <th></th>\n",
       "      <th>theta_1s</th>\n",
       "      <th>CT</th>\n",
       "      <th>Cm,pitch</th>\n",
       "      <th>Cm,roll</th>\n",
       "    </tr>\n",
       "  </thead>\n",
       "  <tbody>\n",
       "    <tr>\n",
       "      <th>0</th>\n",
       "      <td>-9.0</td>\n",
       "      <td>0.011300</td>\n",
       "      <td>-0.000084</td>\n",
       "      <td>0.001239</td>\n",
       "    </tr>\n",
       "    <tr>\n",
       "      <th>1</th>\n",
       "      <td>-10.0</td>\n",
       "      <td>0.010441</td>\n",
       "      <td>-0.000085</td>\n",
       "      <td>0.000509</td>\n",
       "    </tr>\n",
       "    <tr>\n",
       "      <th>2</th>\n",
       "      <td>-11.0</td>\n",
       "      <td>0.009582</td>\n",
       "      <td>-0.000086</td>\n",
       "      <td>-0.000221</td>\n",
       "    </tr>\n",
       "    <tr>\n",
       "      <th>3</th>\n",
       "      <td>-12.0</td>\n",
       "      <td>0.008722</td>\n",
       "      <td>-0.000087</td>\n",
       "      <td>-0.000950</td>\n",
       "    </tr>\n",
       "    <tr>\n",
       "      <th>4</th>\n",
       "      <td>-13.0</td>\n",
       "      <td>0.007863</td>\n",
       "      <td>-0.000088</td>\n",
       "      <td>-0.001680</td>\n",
       "    </tr>\n",
       "    <tr>\n",
       "      <th>5</th>\n",
       "      <td>-14.0</td>\n",
       "      <td>0.007004</td>\n",
       "      <td>-0.000089</td>\n",
       "      <td>-0.002410</td>\n",
       "    </tr>\n",
       "  </tbody>\n",
       "</table>\n",
       "</div>"
      ],
      "text/plain": [
       "   theta_1s        CT  Cm,pitch   Cm,roll\n",
       "0      -9.0  0.011300 -0.000084  0.001239\n",
       "1     -10.0  0.010441 -0.000085  0.000509\n",
       "2     -11.0  0.009582 -0.000086 -0.000221\n",
       "3     -12.0  0.008722 -0.000087 -0.000950\n",
       "4     -13.0  0.007863 -0.000088 -0.001680\n",
       "5     -14.0  0.007004 -0.000089 -0.002410"
      ]
     },
     "execution_count": 65,
     "metadata": {},
     "output_type": "execute_result"
    }
   ],
   "source": [
    "theta_1s_table"
   ]
  },
  {
   "cell_type": "markdown",
   "metadata": {},
   "source": [
    "##### 5.8 Final Trim Values "
   ]
  },
  {
   "cell_type": "code",
   "execution_count": 66,
   "metadata": {},
   "outputs": [],
   "source": [
    "# These are final trim values after optimization\n",
    "beta_0 = 3\n",
    "beta_1c = -1.07\n",
    "beta_1s = 1.68\n",
    "beta_0 = beta_0*np.pi/180\n",
    "beta_1c = beta_1c*np.pi/180\n",
    "beta_1s = beta_1s*np.pi/180\n",
    "\n",
    "theta_0 = 18.7\n",
    "theta_tw = -0.3\n",
    "theta_1c = 2.1\n",
    "theta_1s = -11.2\n",
    "theta_0 = theta_0*np.pi/180\n",
    "theta_tw = theta_tw*np.pi/180\n",
    "theta_1c = theta_1c*np.pi/180\n",
    "theta_1s = theta_1s*np.pi/180"
   ]
  },
  {
   "cell_type": "code",
   "execution_count": 67,
   "metadata": {},
   "outputs": [
    {
     "name": "stdout",
     "output_type": "stream",
     "text": [
      "Total_Thrust_at Trim:  83162.49352881065\n",
      "CT at Trim:  0.010349180931778517\n",
      "Rolling Moment at Trim:  -34.80656785539928\n",
      "Cm_rolling at Trim:  -5.933580218293491e-07\n",
      "Pitching Moment at Trim:  13.289264550257442\n",
      "C_pitching at Trim:  2.265460862980337e-07\n"
     ]
    }
   ],
   "source": [
    "Total_Thrust_Trim = blades*find_Thrust(beta_0, beta_1c,beta_1s,theta_0, theta_1c, theta_1s,theta_tw)/(2*np.pi)\n",
    "CT_Trim = Total_Thrust/(rho*(omega**2)*(R**4)*np.pi)\n",
    "print('Total_Thrust_at Trim: ',Total_Thrust)\n",
    "print('CT at Trim: ',CT_integrate)\n",
    "\n",
    "Rolling_moment = blades*find_rolling_moment(beta_0, beta_1c,beta_1s,theta_0, theta_1c, theta_1s,theta_tw)/(2*np.pi)\n",
    "C_rolling = Rolling_moment/(rho*(omega**2)*(R**5)*np.pi)\n",
    "print('Rolling Moment at Trim: ',Rolling_moment)\n",
    "print('Cm_rolling at Trim: ',C_rolling)\n",
    "\n",
    "Pitching_moment = blades*find_pitching_moment(beta_0, beta_1c,beta_1s,theta_0, theta_1c, theta_1s,theta_tw)/(2*np.pi)\n",
    "C_pitching = Pitching_moment/(rho*(omega**2)*(R**5)*np.pi)\n",
    "print('Pitching Moment at Trim: ',Pitching_moment)\n",
    "print('C_pitching at Trim: ',C_pitching)"
   ]
  },
  {
   "cell_type": "markdown",
   "metadata": {},
   "source": [
    "# Task2: Radial distribution of non-dimensional sectional blade lift"
   ]
  },
  {
   "cell_type": "code",
   "execution_count": 68,
   "metadata": {},
   "outputs": [],
   "source": [
    "# We have used the values at trim conditions\n",
    "beta_0 = 3\n",
    "beta_1c = -1.07\n",
    "beta_1s = 1.68\n",
    "beta_0 = beta_0*np.pi/180\n",
    "beta_1c = beta_1c*np.pi/180\n",
    "beta_1s = beta_1s*np.pi/180\n",
    " \n",
    "theta_0 = 18.7\n",
    "theta_tw = -0.3\n",
    "theta_1c = 2.1\n",
    "theta_1s = -11.2\n",
    "theta_0 = theta_0*np.pi/180\n",
    "theta_tw = theta_tw*np.pi/180\n",
    "theta_1c = theta_1c*np.pi/180\n",
    "theta_1s = theta_1s*np.pi/180"
   ]
  },
  {
   "cell_type": "code",
   "execution_count": 69,
   "metadata": {},
   "outputs": [],
   "source": [
    "#radial sectional lift for given psi value, return list of sectional list at different r \n",
    "def find_radial_sectional_lift(psi):\n",
    "    radial_lift_dr = np.zeros(len(dr))\n",
    "    for i in range(len(dr)):\n",
    "        radial_lift_dr[i] = L_prime(dr[i],psi,beta_0, beta_1c,beta_1s,theta_0, theta_1c, theta_1s,theta_tw)/(rho*a*C*((omega*R)**2))\n",
    "    return radial_lift_dr\n",
    "      "
   ]
  },
  {
   "cell_type": "code",
   "execution_count": 70,
   "metadata": {},
   "outputs": [],
   "source": [
    "psi_list = [0,np.pi/2,np.pi,np.pi*3/2]\n",
    "radial_sectional_lift = []\n",
    "for psi in psi_list:\n",
    "    radial_sectional_lift.append(find_radial_sectional_lift(psi))\n",
    "    "
   ]
  },
  {
   "cell_type": "code",
   "execution_count": 71,
   "metadata": {},
   "outputs": [
    {
     "data": {
      "image/png": "[encoded data removed]",
      "text/plain": [
       "<Figure size 936x504 with 1 Axes>"
      ]
     },
     "metadata": {
      "needs_background": "light"
     },
     "output_type": "display_data"
    }
   ],
   "source": [
    "plt.figure(figsize=(13,7))\n",
    "plt.plot(dr, radial_sectional_lift[0],label = \"psi=0\")\n",
    "plt.plot(dr, radial_sectional_lift[1],label = \"psi=90\")\n",
    "plt.plot(dr, radial_sectional_lift[2],label = \"psi=180\")\n",
    "plt.plot(dr, radial_sectional_lift[3],label = \"psi=270\")\n",
    "plt.legend()\n",
    "plt.grid()\n",
    "plt.xlabel(\"r(m)\")\n",
    "plt.ylabel(\"Non-dimensional sectional blade lift\")\n",
    "plt.title('radial distribution of non-dimensional sectional blade lift')\n",
    "plt.savefig(\"plot_radial\")"
   ]
  },
  {
   "cell_type": "markdown",
   "metadata": {},
   "source": [
    "# Task3: Azimuthal variation of non-dimensional sectional blade lift"
   ]
  },
  {
   "cell_type": "code",
   "execution_count": 72,
   "metadata": {},
   "outputs": [],
   "source": [
    "# sectional lift for given r/R value, return list of sectional lift at different psi\n",
    "def find_azimuthal_sectional_lift(rbyR):\n",
    "    azimuthal_lift_dpsi = np.zeros(len(dpsi))\n",
    "    for i in range(len(dpsi)):\n",
    "        azimuthal_lift_dpsi[i] = L_prime(rbyR*R,dpsi[i],beta_0, beta_1c,beta_1s,theta_0, theta_1c, theta_1s,theta_tw)/(rho*a*C*((omega*R)**2))\n",
    "    return azimuthal_lift_dpsi\n",
    "      "
   ]
  },
  {
   "cell_type": "code",
   "execution_count": 73,
   "metadata": {},
   "outputs": [],
   "source": [
    "rbyR_list = [0.4,0.6,0.8,1]\n",
    "azimuthal_sectional_lift=[]\n",
    "for rbyR in rbyR_list:\n",
    "    azimuthal_sectional_lift.append(find_azimuthal_sectional_lift(rbyR))"
   ]
  },
  {
   "cell_type": "code",
   "execution_count": 74,
   "metadata": {},
   "outputs": [
    {
     "data": {
      "image/png": "[encoded data removed]",
      "text/plain": [
       "<Figure size 936x504 with 1 Axes>"
      ]
     },
     "metadata": {
      "needs_background": "light"
     },
     "output_type": "display_data"
    }
   ],
   "source": [
    "plt.figure(figsize=(13,7))\n",
    "plt.plot(dpsi, azimuthal_sectional_lift[0],label = \"r/R=0.4\")\n",
    "plt.plot(dpsi, azimuthal_sectional_lift[1],label = \"r/R=0.6\")\n",
    "plt.plot(dpsi, azimuthal_sectional_lift[2],label = \"r/R=0.8\")\n",
    "plt.plot(dpsi, azimuthal_sectional_lift[3],label = \"r/R=1\")\n",
    "plt.legend()\n",
    "plt.grid()\n",
    "plt.xlabel(\"Psi(radian)\")\n",
    "plt.ylabel(\"Non-dimensional sectional blade lift\")\n",
    "plt.title('Azimuthal variation of non-dimensional sectional blade lift')\n",
    "plt.savefig(\"plot_azimuth\")"
   ]
  },
  {
   "cell_type": "code",
   "execution_count": null,
   "metadata": {},
   "outputs": [],
   "source": []
  },
  {
   "cell_type": "markdown",
   "metadata": {},
   "source": [
    "# If you want to try some other control value You can try this"
   ]
  },
  {
   "cell_type": "code",
   "execution_count": 78,
   "metadata": {},
   "outputs": [],
   "source": [
    "# These are final trim values after optimization\n",
    "beta_0 = 3\n",
    "beta_1c = -1.07\n",
    "beta_1s = 1.68\n",
    "beta_0 = beta_0*np.pi/180\n",
    "beta_1c = beta_1c*np.pi/180\n",
    "beta_1s = beta_1s*np.pi/180\n",
    "\n",
    "theta_0 = 18.7\n",
    "theta_tw = -0.3\n",
    "theta_1c = 2.1\n",
    "theta_1s = -11.2\n",
    "theta_0 = theta_0*np.pi/180\n",
    "theta_tw = theta_tw*np.pi/180\n",
    "theta_1c = theta_1c*np.pi/180\n",
    "theta_1s = theta_1s*np.pi/180"
   ]
  },
  {
   "cell_type": "code",
   "execution_count": 79,
   "metadata": {},
   "outputs": [
    {
     "name": "stdout",
     "output_type": "stream",
     "text": [
      "Total_Thrust_at Trim:  83162.49352881065\n",
      "CT at Trim:  0.010349180931778517\n",
      "Rolling Moment at Trim:  -34.80656785539928\n",
      "Cm_rolling at Trim:  -5.933580218293491e-07\n",
      "Pitching Moment at Trim:  13.289264550257442\n",
      "C_pitching at Trim:  2.265460862980337e-07\n"
     ]
    }
   ],
   "source": [
    "Total_Thrust_Trim = blades*find_Thrust(beta_0, beta_1c,beta_1s,theta_0, theta_1c, theta_1s,theta_tw)/(2*np.pi)\n",
    "CT_Trim = Total_Thrust/(rho*(omega**2)*(R**4)*np.pi)\n",
    "print('Total_Thrust_at Trim: ',Total_Thrust)\n",
    "print('CT at Trim: ',CT_integrate)\n",
    "\n",
    "Rolling_moment = blades*find_rolling_moment(beta_0, beta_1c,beta_1s,theta_0, theta_1c, theta_1s,theta_tw)/(2*np.pi)\n",
    "C_rolling = Rolling_moment/(rho*(omega**2)*(R**5)*np.pi)\n",
    "print('Rolling Moment at Trim: ',Rolling_moment)\n",
    "print('Cm_rolling at Trim: ',C_rolling)\n",
    "\n",
    "Pitching_moment = blades*find_pitching_moment(beta_0, beta_1c,beta_1s,theta_0, theta_1c, theta_1s,theta_tw)/(2*np.pi)\n",
    "C_pitching = Pitching_moment/(rho*(omega**2)*(R**5)*np.pi)\n",
    "print('Pitching Moment at Trim: ',Pitching_moment)\n",
    "print('C_pitching at Trim: ',C_pitching)"
   ]
  },
  {
   "cell_type": "code",
   "execution_count": null,
   "metadata": {},
   "outputs": [],
   "source": []
  },
  {
   "cell_type": "code",
   "execution_count": 75,
   "metadata": {},
   "outputs": [],
   "source": [
    "#Do not run this, This is for finding the trim value condition. It will take too much time. I have already run this\n",
    "#function and reported the values."
   ]
  },
  {
   "cell_type": "code",
   "execution_count": 76,
   "metadata": {},
   "outputs": [],
   "source": [
    "@numba.njit\n",
    "def find_params():\n",
    "    params=[]\n",
    "    CT_trim_find=[]\n",
    "    CM_roll_find=[]\n",
    "    CM_pitch_find=[]\n",
    "    for i in beta_0_list:\n",
    "        for j in beta_1c_list:\n",
    "            for k in beta_1s_list:\n",
    "                for l in theta_0_list:\n",
    "                    for m in theta_tw_list:\n",
    "                        for n in theta_1c_list:\n",
    "                            for o in theta_1s_list:\n",
    "                                beta_0 = i\n",
    "                                beta_1c = j\n",
    "                                beta_1s = k\n",
    "\n",
    "                                # We have to find these values at trim conditions\n",
    "                                theta_0 = l\n",
    "                                theta_tw = m\n",
    "                                theta_1c = n\n",
    "                                theta_1s = o\n",
    "                                params.append((i,j,k,l,m,n,o))\n",
    "                                CT_tmp = (blades*find_Thrust())/(2*np.pi*(rho*(omega**2)*(R**4)*np.pi))\n",
    "                                CM_roll_tmp= (blades*find_rolling_moment())/(2*np.pi*rho*(omega**2)*(R**5)*np.pi)\n",
    "                                CM_pitch_tmp = (blades*find_pitching_moment())/(2*np.pi*rho*(omega**2)*(R**5)*np.pi)\n",
    "                                CT_trim_find.append(CT_tmp)\n",
    "                                CM_roll_find.append(CM_roll_tmp)\n",
    "                                CM_pitch_find.append(CM_pitch_tmp)\n",
    "        return params, CT_trim_find, CM_roll_find, CM_pitch_find"
   ]
  },
  {
   "cell_type": "code",
   "execution_count": 77,
   "metadata": {},
   "outputs": [],
   "source": [
    "# params, CT_trim_find, CM_roll_find, CM_pitch_find = find_params()"
   ]
  },
  {
   "cell_type": "code",
   "execution_count": null,
   "metadata": {},
   "outputs": [],
   "source": [
    "\n"
   ]
  }
 ],
 "metadata": {
  "kernelspec": {
   "display_name": "Python 3",
   "language": "python",
   "name": "python3"
  },
  "language_info": {
   "codemirror_mode": {
    "name": "ipython",
    "version": 3
   },
   "file_extension": ".py",
   "mimetype": "text/x-python",
   "name": "python",
   "nbconvert_exporter": "python",
   "pygments_lexer": "ipython3",
   "version": "3.8.5"
  }
 },
 "nbformat": 4,
 "nbformat_minor": 4
}
